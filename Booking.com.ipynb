{
 "cells": [
  {
   "cell_type": "code",
   "execution_count": 54,
   "id": "2f5ee0d7",
   "metadata": {},
   "outputs": [],
   "source": [
    "import requests"
   ]
  },
  {
   "cell_type": "markdown",
   "id": "fb534ed0",
   "metadata": {},
   "source": [
    "### Manali"
   ]
  },
  {
   "cell_type": "code",
   "execution_count": 233,
   "id": "6587525b",
   "metadata": {},
   "outputs": [],
   "source": [
    "URL = \"https://www.booking.com/searchresults.en-gb.html?ss=Man%C4%81li&ssne=Man%C4%81li&ssne_untouched=Man%C4%81li&label=en-in-booking-desktop-SoQWfYhAMBURf0HSQntj1AS652796016141%3Apl%3Ata%3Ap1%3Ap2%3Aac%3Aap%3Aneg%3Afi%3Atikwd-334108349%3Alp9062134%3Ali%3Adec%3Adm&aid=2311236&lang=en-gb&sb=1&src_elem=sb&src=index&dest_id=-2103603&dest_type=city&checkin=2023-12-30&checkout=2024-01-02&group_adults=2&no_rooms=1&group_children=0&sb_travel_purpose=leisure\""
   ]
  },
  {
   "cell_type": "code",
   "execution_count": 234,
   "id": "8fcc8993",
   "metadata": {},
   "outputs": [],
   "source": [
    "response_headers = {'Content-Type':'text/html; charset=UTF-8',\n",
    "    'User-Agent':'Mozilla/5.0 (Windows NT 10.0; Win64; x64) AppleWebKit/537.36 (KHTML, like Gecko) Chrome/119.0.0.0 Safari/537.36',\n",
    "                   'Accept-Encoding':'gzip, deflate, br'}"
   ]
  },
  {
   "cell_type": "code",
   "execution_count": 235,
   "id": "5a111ee0",
   "metadata": {},
   "outputs": [
    {
     "name": "stdout",
     "output_type": "stream",
     "text": [
      "200\n"
     ]
    }
   ],
   "source": [
    "response = requests.get(URL, headers=response_headers)\n",
    "\n",
    "print(response.status_code)"
   ]
  },
  {
   "cell_type": "code",
   "execution_count": 236,
   "id": "58af1395",
   "metadata": {},
   "outputs": [
    {
     "data": {
      "text/plain": [
       "{'Content-Type': 'text/html; charset=UTF-8', 'Transfer-Encoding': 'chunked', 'Connection': 'keep-alive', 'server': 'nginx', 'date': 'Thu, 16 Nov 2023 08:16:05 GMT', 'cache-control': 'private', 'vary': 'User-Agent, Accept-Encoding', 'content-encoding': 'br', 'link': '<https://cf.bstatic.com/static/css/gprof_icons_cloudfront_sd.iq_ltr/4ba3a053b4980db63ac9203a90c619cd1a17110c.css>; rel=preload; as=style, <https://cf.bstatic.com/static/css/incentives_cloudfront_sd.iq_ltr/f1558a6e9832a4eb8cfe1d3d14db176bd3564335.css>; rel=preload; as=style, <https://cf.bstatic.com/static/css/main_cloudfront_sd.iq_ltr/ee8c663159661f849c4a8188ebd4f756c0753603.css>; rel=preload; as=style, <https://cf.bstatic.com/static/css/main_exps_cloudfront_sd.iq_ltr/586b07455f7783cafa801bdea38881f1f98ad36d.css>; rel=preload; as=style, <https://cf.bstatic.com/static/css/mlt_cloudfront_sd.iq_ltr.css>; rel=preload; as=style, <https://cf.bstatic.com/static/css/searchresults_cloudfront_sd.iq_ltr/885babc30e639e45b835ee62ec85a2364292c143.css>; rel=preload; as=style', 'nel': '{\"max_age\":604800,\"report_to\":\"default\"}', 'report-to': '{\"group\":\"default\",\"endpoints\":[{\"url\":\"https://nellie.booking.com/report\"}],\"max_age\":604800}', 'set-cookie': '_pxhd=h2L9XiOsnRiRizPoNX5FJHouGylJAlHKkmLVM7Dzo257SKTS41ZkUY3SeOhTP8mHzMpVeSykm2RpKcTCtRL%252FAQ%253D%253D%253AnRLyZk8vdVn5ZuW8cFXJY47VRsnFcu8bnCCOe%252FYVpxtkLRsYxdqU2alPZlwQFhVeHYfU%252FQEMJ-LwEWJeWZOCIKl3GKWiHpmaW7PxYn96WrI%253D; domain=booking.com; path=/; expires=Fri, 15-Nov-2024 08:16:04 GMT, _implmdnbl=2__1__0; path=/; expires=Sat, 17-Nov-2018 08:16:04 GMT; HttpOnly, px_init=0; domain=booking.com; expires=Mon, 29-Nov-2077 16:32:08 GMT; SameSite=Strict; secure; HttpOnly, bkng=11UmFuZG9tSVYkc2RlIyh9Yaa29%2F3xUOLbnmKTRaewPBsZUiQZh0PGYmdEKNAngjub8pWE9Upj6ulXZ91xnQnibX%2Bvv6aWAtgzuo%2B%2FN4QuBnWazQNlyhNecNJlpxOyx9Rfrv3RcqPh1YTWgDuQtqAU9z%2BhhGYJ66bXdW0HlwZ6r5CZwM6pqroaeZitvmoXhJ3%2B%2FvPzsHQWRBA%3D; domain=.booking.com; path=/; expires=Tue, 14-Nov-2028 08:16:05 GMT; Secure; HTTPOnly; SameSite=None, bkng_sso_auth=CAIQsOnuTRpyJqqAqF5Pn9T735+kst8lS0L+43oQA8ozc1yY24kWkrPK0Wnsy7tuSwYAXkAMwEogE75W9Hvot9TU3LGoBBCfl0P2i5Ka9obBUoVB0HGbXE/tAKS72W8gK+fo2GfAsg8g+c1QmVO2ARUKnonILWc0b2ki; Domain=.booking.com; Path=/; Expires=Thu, 23 Nov 2023 08:16:04 GMT; HttpOnly; Secure, pcm_consent=analytical%3Dtrue%26countryCode%3DIN%26consentId%3D198349f1-cbae-4f84-b552-524075c3bca6%26consentedAt%3D2023-11-16T08%3A16%3A04.240Z%26expiresAt%3D2024-05-14T08%3A16%3A04.240Z%26implicit%3Dtrue%26marketing%3Dtrue%26regionCode%3DTG%26regulation%3Dnone%26legacyRegulation%3Dnone; Domain=.booking.com; Path=/; Expires=Thu, 23 Nov 2023 08:16:04 GMT; HttpOnly; Secure', 'strict-transport-security': 'max-age=300; includeSubDomains', 'x-content-type-options': 'nosniff', 'x-recruiting': 'Like HTTP headers? Come write ours: https://careers.booking.com', 'content-security-policy': \"report-uri https://nellie.booking.com/csp-report-uri?type=block&tag=153&pid=d13c3a224c7e001f&e=UmFuZG9tSVYkc2RlIyh9YRdubXl3m7MIPItwv4TRRzARPrDvNuzlrZ7l5D7NIB0QoukhrTtIJnlR5govmF1xrw; script-src 'self' 'nonce-4r8mP86hubXdA5e' 'report-sample' 'unsafe-eval' 'unsafe-inline' 'strict-dynamic' https: 'sha256-47mKTaMaEn1L3m5DAz9muidMqw636xxw7EFAK/YnPdg=' 'sha256-iry7oJKoKJ+9HSjmU3E1TlRlpSesJWZ1vapuUz2MP38=' 'sha256-2rvfFrggTCtyF5WOiTri1gDS8Boibj4Njn0e+VCBmDI=' 'sha256-47DEQpj8HBSa+/TImW+5JCeuQeRkm5NMpJWZG3hSuFU='\", 'x-xss-protection': '1; mode=block', 'X-Cache': 'Miss from cloudfront', 'Via': '1.1 ca57964c27be93559f8005cb2d0234c8.cloudfront.net (CloudFront)', 'X-Amz-Cf-Pop': 'HYD57-P2', 'X-Amz-Cf-Id': 'WFzl_B6gMHkmPmAbEZIiYAQ7RQQYvbjg4WviVuHIshiJpDMuBAQ6aA=='}"
      ]
     },
     "execution_count": 236,
     "metadata": {},
     "output_type": "execute_result"
    }
   ],
   "source": [
    "response.headers"
   ]
  },
  {
   "cell_type": "code",
   "execution_count": 237,
   "id": "96911df4",
   "metadata": {},
   "outputs": [
    {
     "name": "stdout",
     "output_type": "stream",
     "text": [
      "<class 'str'>\n"
     ]
    }
   ],
   "source": [
    "html_code = response.text\n",
    "\n",
    "print(type(html_code))"
   ]
  },
  {
   "cell_type": "code",
   "execution_count": 238,
   "id": "7ab98ff8",
   "metadata": {},
   "outputs": [],
   "source": [
    "from bs4 import BeautifulSoup"
   ]
  },
  {
   "cell_type": "code",
   "execution_count": 239,
   "id": "56cb1105",
   "metadata": {},
   "outputs": [],
   "source": [
    "soup1 = BeautifulSoup(html_code)"
   ]
  },
  {
   "cell_type": "raw",
   "id": "cf6378b3",
   "metadata": {},
   "source": [
    "Name:\n",
    "    tag: div\n",
    "    class = \"f6431b446c a15b38c233\"\n",
    "Place:\n",
    "    tag: span\n",
    "    class=\"aee5343fdb def9bc142a\"\n",
    "Distance:\n",
    "    tag: span\n",
    "    class=\"f419a93f12\"\n",
    "Rating:\n",
    "    tag: div\n",
    "    class=\"a3b8729ab1 d86cee9b25\"\n",
    "Price:\n",
    "    tag: span\n",
    "    class=\"f6431b446c fbfd7c1165 e84eb96b1f\"\n",
    "Tax:\n",
    "    tag: div\n",
    "    class=\"abf093bdfe f45d8e4c32\"\n",
    "Reviews:\n",
    "    tag: div\n",
    "    class=\"a3b8729ab1 d86cee9b25\"\n",
    "Room:\n",
    "    tag: h4\n",
    "    class=\"abf093bdfe e8f7c070a7\"\n",
    "Review_title:\n",
    "    tag: div\n",
    "    class=\"a3b8729ab1 e6208ee469 cb2cbb3ccb\""
   ]
  },
  {
   "cell_type": "code",
   "execution_count": 241,
   "id": "30e131c1",
   "metadata": {},
   "outputs": [
    {
     "name": "stdout",
     "output_type": "stream",
     "text": [
      "<class 'bs4.element.ResultSet'>\n",
      "<class 'bs4.element.Tag'>\n",
      "Hotel New Meadows inn\n",
      "Bonfire RishApple\n",
      "Hollywood Vibes, A Four Star Premium Hotel in Manali\n",
      "Hotel Hollywood, Manali !! Most Awarded !! Top Rated !! River View !! Luxury Rooms\n",
      "Hill River Resort By West Western\n",
      "Hotel Hilltop At Mall Road Manali With Open Terrace\n",
      "Bentenwood Resort - A Beutiful Scenic Mountain & River View\n",
      "The 14 Gables, A Boutique Stay\n",
      "Sixth Element - A Five Star Luxury Cottage in Manali\n",
      "Holywood Riverview Resort, Manali - Scenic River & Mountain View\n",
      "Shree Ram Cottage, Manali ! 1,2,3 Bedroom Luxury Cottages Available\n",
      "Manali Castle - Hotel & Resort\n",
      "Tata Vista Resort Heated Rooms, Near Mall Road Manali - Property of the Year\n",
      "Naina Hotel & Cottages, Manali - A Blissful View From Entire Cottage\n",
      "Himalayan adventure Cottages Manali\n",
      "Hotel Alpine Manali\n",
      "Nomad 2 Bedroom independent Luxury Cottages\n",
      "SAGAR Ambiance Resort, Manali By Ramanand sagar Ramayan Maker\n",
      "Hadimba Way Manali - Top Rated and Most Awarded Property in Manali !! Balcony Rooms\n",
      "Happy Valley Resort By 6th Element, Manali ! Top Rated ! Most Awarded ! Scenic View ! Luxury Villas With Balcony ! Bonfire !\n",
      "Vashisht valley hotel\n",
      "Orchards House - The Hidden Tribe\n",
      "Heera Higehts\n",
      "Montana Blues Resort by Snow City\n",
      "6th Element Hotels & Cottages, Manali - Peaceful Stay\n"
     ]
    }
   ],
   "source": [
    "names = soup1.find_all('div', attrs={\"f6431b446c a15b38c233\"})\n",
    "print(type(names))\n",
    "print(type(names[0]))\n",
    "\n",
    "for name in names:\n",
    "    print(name.text)"
   ]
  },
  {
   "cell_type": "code",
   "execution_count": 242,
   "id": "a861703d",
   "metadata": {},
   "outputs": [
    {
     "name": "stdout",
     "output_type": "stream",
     "text": [
      "<class 'bs4.element.ResultSet'>\n",
      "<class 'bs4.element.Tag'>\n",
      "Small Double Room\n",
      "Double Room with Balcony\n",
      "King Room\n",
      "Deluxe Room\n",
      "Deluxe Double Room\n",
      "Deluxe Room\n",
      "Queen Room with Balcony\n",
      "Deluxe Double Room with Balcony\n",
      "Deluxe Room\n",
      "Deluxe Double Room with Balcony\n",
      "Double Room\n",
      "Deluxe Room\n",
      "Double Room\n",
      "Deluxe Room\n",
      "Queen Room with Balcony\n",
      "Deluxe King Room\n",
      "Two-Bedroom Cottage\n",
      "Deluxe Room\n",
      "Budget Double Room\n",
      "One-Bedroom Villa\n",
      "Deluxe Double Room with Balcony\n",
      "Budget Double or Twin Room\n",
      "Budget Double Room\n",
      "Deluxe Double Room with Balcony\n",
      "Deluxe Room\n"
     ]
    }
   ],
   "source": [
    "room_type = soup1.find_all('h4', attrs = {'abf093bdfe e8f7c070a7'})\n",
    "\n",
    "print(type(room_type))\n",
    "print(type(room_type[0]))\n",
    "\n",
    "for room_types in room_type:\n",
    "    print(room_types.text)"
   ]
  },
  {
   "cell_type": "code",
   "execution_count": 243,
   "id": "2a0f2f95",
   "metadata": {},
   "outputs": [
    {
     "name": "stdout",
     "output_type": "stream",
     "text": [
      "........................."
     ]
    }
   ],
   "source": [
    "import numpy as np\n",
    "\n",
    "\n",
    "\n",
    "hotel_name = []\n",
    "location = []\n",
    "distance_from_centre = []\n",
    "ratings = []\n",
    "reviews = []\n",
    "review_title = []\n",
    "room_style = []\n",
    "price = []\n",
    "tax_charges = []\n",
    "features = []\n",
    "\n",
    "for i in range(0,601,25):\n",
    "    URL = \"https://www.booking.com/searchresults.en-gb.html?label=en-in-booking-desktop-SoQWfYhAMBURf0HSQntj1AS652796016141%3Apl%3Ata%3Ap1%3Ap2%3Aac%3Aap%3Aneg%3Afi%3Atikwd-334108349%3Alp9062134%3Ali%3Adec%3Adm&aid=2311236&ss=Man%C4%81li&ssne=Man%C4%81li&ssne_untouched=Man%C4%81li&lang=en-gb&sb=1&src_elem=sb&src=index&dest_id=-2103603&dest_type=city&checkin=2023-12-30&checkout=2024-01-02&group_adults=2&no_rooms=1&group_children=0&sb_travel_purpose=leisure&offset={}\".format(i)\n",
    "    response_headers = {'Content-Type':'text/html; charset=UTF-8',\n",
    "        'User-Agent':'Mozilla/5.0 (Windows NT 10.0; Win64; x64) AppleWebKit/537.36 (KHTML, like Gecko) Chrome/119.0.0.0 Safari/537.36',\n",
    "                   'Accept-Encoding':'gzip, deflate, br'}\n",
    "    response = requests.get(URL,headers =response_headers)\n",
    "    html_code = response.text\n",
    "    soup1 = BeautifulSoup(html_code)\n",
    "\n",
    "    containers = soup1.find_all('div',attrs={'class' :\"c82435a4b8 a178069f51 a6ae3c2b40 a18aeea94d d794b7a0f7 f53e278e95 c6710787a4\"})\n",
    "        \n",
    "    for container in containers:\n",
    "       \n",
    "            #hotel_name\n",
    "            name = container.find('div', attrs={\"f6431b446c a15b38c233\"})\n",
    "            if name is None:\n",
    "                hotel_name.append(np.NaN)\n",
    "            else:\n",
    "                hotel_name.append(name.text)\n",
    "\n",
    "            #place\n",
    "            place = container.find('span',attrs={'class' : \"aee5343fdb def9bc142a\"})\n",
    "            if place is None:\n",
    "                location.append(np.NaN)\n",
    "            else:\n",
    "                location.append(place.text)\n",
    "\n",
    "            #distance\n",
    "            distance = container.find('span',attrs = {'class' : \"f419a93f12\"})\n",
    "            if distance is None:\n",
    "                distance_from_centre.append(np.NaN)\n",
    "            else:\n",
    "                distance_from_centre.append(distance.text)\n",
    "\n",
    "            #rating\n",
    "            rating = container.find('div', attrs = {'class' : \"a3b8729ab1 d86cee9b25\"})\n",
    "\n",
    "            if rating is None:\n",
    "                ratings.append(np.NaN)\n",
    "            else:\n",
    "                ratings.append(rating.text)\n",
    "\n",
    "            #reviews\n",
    "            review = container.find('div', attrs = {'class' : \"abf093bdfe f45d8e4c32 d935416c47\"})\n",
    "\n",
    "            if review is None:\n",
    "                reviews.append(np.NaN)\n",
    "            else:\n",
    "                reviews.append(review.text)\n",
    "\n",
    "            #review_title\n",
    "            reviews_title = container.find('div',attrs={'class' : \"a3b8729ab1 e6208ee469 cb2cbb3ccb\"})\n",
    "            if reviews_title is None:\n",
    "                review_title.append(np.NaN)\n",
    "            else:\n",
    "                review_title.append(reviews_title.text)\n",
    "\n",
    "            #room_style\n",
    "            rooms_style = container.find('h4',attrs={'class' : \"abf093bdfe e8f7c070a7\"})\n",
    "            if rooms_style is None:\n",
    "                room_style.append(np.NaN)\n",
    "            else:\n",
    "                room_style.append(rooms_style.text)\n",
    "                \n",
    "            #features\n",
    "            feature = container.find('div',attrs={'class':\"c59cd18527\"})\n",
    "            if feature is None:\n",
    "                features.append(np.Nan)\n",
    "            else:\n",
    "                features.append(feature.text)\n",
    "\n",
    "            #price\n",
    "            prices = container.find('span', attrs={'class' : \"f6431b446c fbfd7c1165 e84eb96b1f\"})\n",
    "            if prices is None:\n",
    "                price.append(np.NaN)\n",
    "            else:\n",
    "                price.append(prices.text)\n",
    "\n",
    "            #tax\n",
    "            tax = container.find('div',attrs={'class' : \"abf093bdfe f45d8e4c32\"})\n",
    "            if tax is None:\n",
    "                tax_charges.append(np.NaN)\n",
    "            else:\n",
    "                tax_charges.append(tax.text)\n",
    "    print('.',end=\"\")"
   ]
  },
  {
   "cell_type": "code",
   "execution_count": 163,
   "id": "09e3378d",
   "metadata": {},
   "outputs": [
    {
     "name": "stdout",
     "output_type": "stream",
     "text": [
      "608\n",
      "608\n",
      "608\n",
      "608\n",
      "608\n",
      "608\n",
      "608\n",
      "608\n",
      "608\n",
      "608\n"
     ]
    }
   ],
   "source": [
    "print(len(hotel_name))\n",
    "print(len(location))\n",
    "print(len(distance_from_centre))\n",
    "print(len(ratings))\n",
    "print(len(reviews))\n",
    "print(len(review_title))\n",
    "print(len(room_style))\n",
    "print(len(price))\n",
    "print(len(tax_charges))\n",
    "print(len(features))"
   ]
  },
  {
   "cell_type": "code",
   "execution_count": 165,
   "id": "879a1ff9",
   "metadata": {},
   "outputs": [],
   "source": [
    "import pandas as pd\n",
    "\n",
    "df = pd.DataFrame({'hotel_name':hotel_name,\n",
    "'location':location,\n",
    "'distance_from_centre':distance_from_centre,\n",
    "                   'features':features,\n",
    "'ratings':ratings,\n",
    "'reviews':reviews,\n",
    "'review_title':review_title,\n",
    "'room_style':room_style,\n",
    "'price':price,\n",
    " 'tax_charges':tax_charges                 })"
   ]
  },
  {
   "cell_type": "code",
   "execution_count": 166,
   "id": "d8787ff9",
   "metadata": {},
   "outputs": [
    {
     "data": {
      "text/html": [
       "<div>\n",
       "<style scoped>\n",
       "    .dataframe tbody tr th:only-of-type {\n",
       "        vertical-align: middle;\n",
       "    }\n",
       "\n",
       "    .dataframe tbody tr th {\n",
       "        vertical-align: top;\n",
       "    }\n",
       "\n",
       "    .dataframe thead th {\n",
       "        text-align: right;\n",
       "    }\n",
       "</style>\n",
       "<table border=\"1\" class=\"dataframe\">\n",
       "  <thead>\n",
       "    <tr style=\"text-align: right;\">\n",
       "      <th></th>\n",
       "      <th>hotel_name</th>\n",
       "      <th>location</th>\n",
       "      <th>distance_from_centre</th>\n",
       "      <th>features</th>\n",
       "      <th>ratings</th>\n",
       "      <th>reviews</th>\n",
       "      <th>review_title</th>\n",
       "      <th>room_style</th>\n",
       "      <th>price</th>\n",
       "      <th>tax_charges</th>\n",
       "    </tr>\n",
       "  </thead>\n",
       "  <tbody>\n",
       "    <tr>\n",
       "      <th>0</th>\n",
       "      <td>Hotel New Meadows inn</td>\n",
       "      <td>New Manali, Manāli</td>\n",
       "      <td></td>\n",
       "      <td>Small Double Room1 double bedFree cancellation...</td>\n",
       "      <td>10</td>\n",
       "      <td>6 reviews</td>\n",
       "      <td>Exceptional</td>\n",
       "      <td>Small Double Room</td>\n",
       "      <td>₹ 7,798</td>\n",
       "      <td>3 nights, 2 adults</td>\n",
       "    </tr>\n",
       "    <tr>\n",
       "      <th>1</th>\n",
       "      <td>Manali Castle - Hotel &amp; Resort</td>\n",
       "      <td>Aleo, Manāli</td>\n",
       "      <td></td>\n",
       "      <td>Deluxe Room1 extra-large double bedFree cancel...</td>\n",
       "      <td>7.9</td>\n",
       "      <td>121 reviews</td>\n",
       "      <td>Good</td>\n",
       "      <td>Deluxe Room</td>\n",
       "      <td>₹ 13,500</td>\n",
       "      <td>3 nights, 2 adults</td>\n",
       "    </tr>\n",
       "    <tr>\n",
       "      <th>2</th>\n",
       "      <td>Hotel Nirmal Cottage</td>\n",
       "      <td>Manāli</td>\n",
       "      <td></td>\n",
       "      <td>Double Room1 double bed</td>\n",
       "      <td>10</td>\n",
       "      <td>3 reviews</td>\n",
       "      <td>Exceptional</td>\n",
       "      <td>Double Room</td>\n",
       "      <td>₹ 8,097</td>\n",
       "      <td>3 nights, 2 adults</td>\n",
       "    </tr>\n",
       "    <tr>\n",
       "      <th>3</th>\n",
       "      <td>Hotel Hilltop At Mall Road Manali With Open Te...</td>\n",
       "      <td>New Manali, Manāli</td>\n",
       "      <td></td>\n",
       "      <td>Deluxe Room1 large double bedFree cancellation...</td>\n",
       "      <td>8.4</td>\n",
       "      <td>235 reviews</td>\n",
       "      <td>Very good</td>\n",
       "      <td>Deluxe Room</td>\n",
       "      <td>₹ 9,450</td>\n",
       "      <td>3 nights, 2 adults</td>\n",
       "    </tr>\n",
       "    <tr>\n",
       "      <th>4</th>\n",
       "      <td>Bentenwood Resort - A Beutiful Scenic Mountain...</td>\n",
       "      <td>Manāli</td>\n",
       "      <td></td>\n",
       "      <td>Queen Room with Balcony1 double bedFree cancel...</td>\n",
       "      <td>9.6</td>\n",
       "      <td>17 reviews</td>\n",
       "      <td>Exceptional</td>\n",
       "      <td>Queen Room with Balcony</td>\n",
       "      <td>₹ 19,122</td>\n",
       "      <td>3 nights, 2 adults</td>\n",
       "    </tr>\n",
       "  </tbody>\n",
       "</table>\n",
       "</div>"
      ],
      "text/plain": [
       "                                          hotel_name            location  \\\n",
       "0                              Hotel New Meadows inn  New Manali, Manāli   \n",
       "1                     Manali Castle - Hotel & Resort        Aleo, Manāli   \n",
       "2                               Hotel Nirmal Cottage              Manāli   \n",
       "3  Hotel Hilltop At Mall Road Manali With Open Te...  New Manali, Manāli   \n",
       "4  Bentenwood Resort - A Beutiful Scenic Mountain...              Manāli   \n",
       "\n",
       "  distance_from_centre                                           features  \\\n",
       "0                       Small Double Room1 double bedFree cancellation...   \n",
       "1                       Deluxe Room1 extra-large double bedFree cancel...   \n",
       "2                                                 Double Room1 double bed   \n",
       "3                       Deluxe Room1 large double bedFree cancellation...   \n",
       "4                       Queen Room with Balcony1 double bedFree cancel...   \n",
       "\n",
       "  ratings      reviews  review_title               room_style     price  \\\n",
       "0      10    6 reviews  Exceptional         Small Double Room   ₹ 7,798   \n",
       "1     7.9  121 reviews         Good               Deluxe Room  ₹ 13,500   \n",
       "2      10    3 reviews  Exceptional               Double Room   ₹ 8,097   \n",
       "3     8.4  235 reviews    Very good               Deluxe Room   ₹ 9,450   \n",
       "4     9.6   17 reviews  Exceptional   Queen Room with Balcony  ₹ 19,122   \n",
       "\n",
       "          tax_charges  \n",
       "0  3 nights, 2 adults  \n",
       "1  3 nights, 2 adults  \n",
       "2  3 nights, 2 adults  \n",
       "3  3 nights, 2 adults  \n",
       "4  3 nights, 2 adults  "
      ]
     },
     "execution_count": 166,
     "metadata": {},
     "output_type": "execute_result"
    }
   ],
   "source": [
    "df.head()"
   ]
  },
  {
   "cell_type": "code",
   "execution_count": 167,
   "id": "288a84b4",
   "metadata": {},
   "outputs": [
    {
     "data": {
      "text/plain": [
       "(608, 10)"
      ]
     },
     "execution_count": 167,
     "metadata": {},
     "output_type": "execute_result"
    }
   ],
   "source": [
    "df.shape"
   ]
  },
  {
   "cell_type": "code",
   "execution_count": 169,
   "id": "7a46eeac",
   "metadata": {},
   "outputs": [],
   "source": [
    "df.to_csv('Downloads/manali1.csv',index=False)"
   ]
  },
  {
   "cell_type": "code",
   "execution_count": null,
   "id": "5809b04b",
   "metadata": {},
   "outputs": [],
   "source": []
  },
  {
   "cell_type": "markdown",
   "id": "b3ae8450",
   "metadata": {},
   "source": [
    "### Goa"
   ]
  },
  {
   "cell_type": "code",
   "execution_count": 181,
   "id": "ca7ffdc6",
   "metadata": {},
   "outputs": [],
   "source": [
    "URL = \"https://www.booking.com/searchresults.en-gb.html?ss=Goa%2C+India&ssne=Goa&ssne_untouched=Goa&label=en-in-booking-desktop-SoQWfYhAMBURf0HSQntj1AS652796016141%3Apl%3Ata%3Ap1%3Ap2%3Aac%3Aap%3Aneg%3Afi%3Atikwd-334108349%3Alp9181929%3Ali%3Adec%3Adm&aid=2311236&lang=en-gb&sb=1&src_elem=sb&src=searchresults&dest_id=4127&dest_type=region&checkin=2023-12-30&checkout=2024-01-02&group_adults=2&no_rooms=1&group_children=0\""
   ]
  },
  {
   "cell_type": "code",
   "execution_count": 182,
   "id": "314826f4",
   "metadata": {},
   "outputs": [],
   "source": [
    "response_headers = {'Content-Type':'text/html; charset=UTF-8',\n",
    "    'User-Agent':'Mozilla/5.0 (Windows NT 10.0; Win64; x64) AppleWebKit/537.36 (KHTML, like Gecko) Chrome/119.0.0.0 Safari/537.36',\n",
    "                   'Accept-Encoding':'gzip, deflate, br'}"
   ]
  },
  {
   "cell_type": "code",
   "execution_count": 183,
   "id": "461faee0",
   "metadata": {},
   "outputs": [
    {
     "name": "stdout",
     "output_type": "stream",
     "text": [
      "200\n"
     ]
    }
   ],
   "source": [
    "response = requests.get(URL,headers=response_headers)\n",
    "\n",
    "print(response.status_code)"
   ]
  },
  {
   "cell_type": "code",
   "execution_count": 184,
   "id": "e4f54dce",
   "metadata": {},
   "outputs": [
    {
     "data": {
      "text/plain": [
       "{'Content-Type': 'text/html; charset=UTF-8', 'Transfer-Encoding': 'chunked', 'Connection': 'keep-alive', 'server': 'nginx', 'date': 'Wed, 15 Nov 2023 20:00:24 GMT', 'cache-control': 'private', 'vary': 'User-Agent, Accept-Encoding', 'content-encoding': 'br', 'link': '<https://cf.bstatic.com/static/css/gprof_icons_cloudfront_sd.iq_ltr/4ba3a053b4980db63ac9203a90c619cd1a17110c.css>; rel=preload; as=style, <https://cf.bstatic.com/static/css/incentives_cloudfront_sd.iq_ltr/f1558a6e9832a4eb8cfe1d3d14db176bd3564335.css>; rel=preload; as=style, <https://cf.bstatic.com/static/css/main_cloudfront_sd.iq_ltr/ee8c663159661f849c4a8188ebd4f756c0753603.css>; rel=preload; as=style, <https://cf.bstatic.com/static/css/main_exps_cloudfront_sd.iq_ltr/586b07455f7783cafa801bdea38881f1f98ad36d.css>; rel=preload; as=style, <https://cf.bstatic.com/static/css/mlt_cloudfront_sd.iq_ltr.css>; rel=preload; as=style, <https://cf.bstatic.com/static/css/searchresults_cloudfront_sd.iq_ltr/885babc30e639e45b835ee62ec85a2364292c143.css>; rel=preload; as=style', 'nel': '{\"report_to\":\"default\",\"max_age\":604800}', 'report-to': '{\"endpoints\":[{\"url\":\"https://nellie.booking.com/report\"}],\"max_age\":604800,\"group\":\"default\"}', 'set-cookie': '_pxhd=VhjYbiGL8ckLr9e9El8ztmR9IEuydQbP%252F6iAOi6T1tO%252Fd2iNAJGRMdeB1ADfaDEezoWsBgw%252FxG1VCaQ-UWWbxg%253D%253D%253ACVpFCPWYamo39z4E0p3Jh8eZ7fxT9p7kKXynzwaZ7TAHusPLpMuqgjqFvcJD8FhjlpVFYrlPVVEyRccDDJYeaZWWzBIMy2WxR06-hNi1EMs%253D; domain=booking.com; path=/; expires=Thu, 14-Nov-2024 20:00:24 GMT, _implmdnbl=2__1__0; path=/; expires=Fri, 16-Nov-2018 20:00:24 GMT; HttpOnly, px_init=100; domain=booking.com; expires=Sun, 28-Nov-2077 16:00:48 GMT; SameSite=Strict; secure; HttpOnly, bkng=11UmFuZG9tSVYkc2RlIyh9Yaa29%2F3xUOLbwcLxQQ4VaCq9HIRboD7SxtF4EYduV9wB3ZeiGBMKaS0NN9RvWkT7US%2B7yi0v2SR7oHa04sRyQJf%2BklyYvKvXKYsIsyx3C6orCUaC3s1pfEMIraFvlcSpEf4NP%2FrVmU8hYb8wbI0QhZt9LpvpJ0WjP7Q0eNUSci6o; domain=.booking.com; path=/; expires=Mon, 13-Nov-2028 20:00:24 GMT; Secure; HTTPOnly; SameSite=None, bkng_sso_auth=CAIQsOnuTRpyY74OPj6c4tlLNCJcGM6YZqSvQCIgMjK8/fPv6dXXcFekPF7yAFTPaTruKnY1z2s+07PzF1J+0ml5968n8K4Kvv29FU1fIs4XD/VNFgcBGdC7xuI1wdsirBdicNi/81j54/WtkAyzcQb9R9WldCLFCMki; Domain=.booking.com; Path=/; Expires=Wed, 22 Nov 2023 20:00:24 GMT; HttpOnly; Secure, pcm_consent=analytical%3Dtrue%26countryCode%3DIN%26consentId%3Deb36b4cf-f0d6-4548-9aa0-c329bbbc25a5%26consentedAt%3D2023-11-15T20%3A00%3A24.579Z%26expiresAt%3D2024-05-13T20%3A00%3A24.579Z%26implicit%3Dtrue%26marketing%3Dtrue%26regionCode%3DTG%26regulation%3Dnone%26legacyRegulation%3Dnone; Domain=.booking.com; Path=/; Expires=Wed, 22 Nov 2023 20:00:24 GMT; HttpOnly; Secure', 'strict-transport-security': 'max-age=300; includeSubDomains', 'x-content-type-options': 'nosniff', 'x-recruiting': 'Like HTTP headers? Come write ours: https://careers.booking.com', 'content-security-policy': \"report-uri https://nellie.booking.com/csp-report-uri?type=block&tag=153&pid=9a338caccbd90042&e=UmFuZG9tSVYkc2RlIyh9YRdubXl3m7MIPItwv4TRRzARPrDvNuzlrdkVcUqQi-HQEHhRWhqk05wv5bYpPeU8Gw; script-src 'self' 'nonce-MEFa77DZ7j506pU' 'report-sample' 'unsafe-eval' 'unsafe-inline' 'strict-dynamic' https: 'sha256-47mKTaMaEn1L3m5DAz9muidMqw636xxw7EFAK/YnPdg=' 'sha256-iry7oJKoKJ+9HSjmU3E1TlRlpSesJWZ1vapuUz2MP38=' 'sha256-2rvfFrggTCtyF5WOiTri1gDS8Boibj4Njn0e+VCBmDI=' 'sha256-47DEQpj8HBSa+/TImW+5JCeuQeRkm5NMpJWZG3hSuFU='\", 'x-xss-protection': '1; mode=block', 'X-Cache': 'Miss from cloudfront', 'Via': '1.1 f60aa486aff988f7acf2cbd252ee96d4.cloudfront.net (CloudFront)', 'X-Amz-Cf-Pop': 'HYD57-P2', 'X-Amz-Cf-Id': 'DrjkKrEsf0JBxZTgXbe8f7LiQelO_CcfDNTSOa7D5xQlQWgu0RnM5w=='}"
      ]
     },
     "execution_count": 184,
     "metadata": {},
     "output_type": "execute_result"
    }
   ],
   "source": [
    "response.headers"
   ]
  },
  {
   "cell_type": "code",
   "execution_count": 185,
   "id": "dff42b91",
   "metadata": {},
   "outputs": [
    {
     "name": "stdout",
     "output_type": "stream",
     "text": [
      "<class 'str'>\n"
     ]
    }
   ],
   "source": [
    "html_code = response.text\n",
    "\n",
    "print(type(response.text))"
   ]
  },
  {
   "cell_type": "code",
   "execution_count": 186,
   "id": "7305fee8",
   "metadata": {},
   "outputs": [],
   "source": [
    "soup2 = BeautifulSoup(html_code)"
   ]
  },
  {
   "cell_type": "raw",
   "id": "7432233e",
   "metadata": {},
   "source": [
    "Name:\n",
    "    tag: div\n",
    "    class = \"f6431b446c a15b38c233\"\n",
    "Place:\n",
    "    tag: span\n",
    "    class=\"aee5343fdb def9bc142a\"\n",
    "\n",
    "Rating:\n",
    "    tag: div\n",
    "    class=\"a3b8729ab1 d86cee9b25\"\n",
    "Price:\n",
    "    tag: span\n",
    "    class=\"f6431b446c fbfd7c1165 e84eb96b1f\"\n",
    "Tax:\n",
    "    tag: div\n",
    "    class=\"abf093bdfe f45d8e4c32\"\n",
    "Reviews:\n",
    "    tag: div\n",
    "    class=\"abf093bdfe f45d8e4c32 d935416c47\"\n",
    "Room:\n",
    "    tag: h4\n",
    "    class=\"abf093bdfe e8f7c070a7\"\n",
    "Review_title:\n",
    "    tag: div\n",
    "    class=\"a3b8729ab1 e6208ee469 cb2cbb3ccb\"\n",
    "Features:\n",
    "    tag: div\n",
    "    class=\"c59cd18527\""
   ]
  },
  {
   "cell_type": "code",
   "execution_count": 187,
   "id": "3d696c00",
   "metadata": {},
   "outputs": [
    {
     "name": "stdout",
     "output_type": "stream",
     "text": [
      "........................................"
     ]
    }
   ],
   "source": [
    "import numpy as np\n",
    "\n",
    "\n",
    "\n",
    "hotel_name = []\n",
    "location = []\n",
    "ratings = []\n",
    "reviews = []\n",
    "review_title = []\n",
    "room_style = []\n",
    "price = []\n",
    "tax_charges = []\n",
    "features = []\n",
    "\n",
    "for i in range(0,976,25):\n",
    "    URL = \"https://www.booking.com/searchresults.en-gb.html?label=en-in-booking-desktop-SoQWfYhAMBURf0HSQntj1AS652796016141%3Apl%3Ata%3Ap1%3Ap2%3Aac%3Aap%3Aneg%3Afi%3Atikwd-334108349%3Alp9181929%3Ali%3Adec%3Adm&aid=2311236&ss=Goa%2C+India&ssne=Goa&ssne_untouched=Goa&lang=en-gb&sb=1&src_elem=sb&src=searchresults&dest_id=4127&dest_type=region&checkin=2023-12-30&checkout=2024-01-02&group_adults=2&no_rooms=1&group_children=0&offset={}\".format(i)\n",
    "    response_headers = {'Content-Type':'text/html; charset=UTF-8',\n",
    "        'User-Agent':'Mozilla/5.0 (Windows NT 10.0; Win64; x64) AppleWebKit/537.36 (KHTML, like Gecko) Chrome/119.0.0.0 Safari/537.36',\n",
    "                   'Accept-Encoding':'gzip, deflate, br'}\n",
    "    response = requests.get(URL,headers =response_headers)\n",
    "    html_code = response.text\n",
    "    soup2 = BeautifulSoup(html_code)\n",
    "\n",
    "    containers = soup2.find_all('div',attrs={'class' :\"c82435a4b8 a178069f51 a6ae3c2b40 a18aeea94d d794b7a0f7 f53e278e95 c6710787a4\"})\n",
    "        \n",
    "    for container in containers:\n",
    "       \n",
    "            #hotel_name\n",
    "            name = container.find('div', attrs={\"f6431b446c a15b38c233\"})\n",
    "            if name is None:\n",
    "                hotel_name.append(np.NaN)\n",
    "            else:\n",
    "                hotel_name.append(name.text)\n",
    "\n",
    "            #place\n",
    "            place = container.find('span',attrs={'class' : \"aee5343fdb def9bc142a\"})\n",
    "            if place is None:\n",
    "                location.append(np.NaN)\n",
    "            else:\n",
    "                location.append(place.text)\n",
    "\n",
    "            #rating\n",
    "            rating = container.find('div', attrs = {'class' : \"a3b8729ab1 d86cee9b25\"})\n",
    "\n",
    "            if rating is None:\n",
    "                ratings.append(np.NaN)\n",
    "            else:\n",
    "                ratings.append(rating.text)\n",
    "\n",
    "            #reviews\n",
    "            review = container.find('div', attrs = {'class' : \"abf093bdfe f45d8e4c32 d935416c47\"})\n",
    "\n",
    "            if review is None:\n",
    "                reviews.append(np.NaN)\n",
    "            else:\n",
    "                reviews.append(review.text)\n",
    "\n",
    "            #review_title\n",
    "            reviews_title = container.find('div',attrs={'class' : \"a3b8729ab1 e6208ee469 cb2cbb3ccb\"})\n",
    "            if reviews_title is None:\n",
    "                review_title.append(np.NaN)\n",
    "            else:\n",
    "                review_title.append(reviews_title.text)\n",
    "\n",
    "            #room_style\n",
    "            rooms_style = container.find('h4',attrs={'class' : \"abf093bdfe e8f7c070a7\"})\n",
    "            if rooms_style is None:\n",
    "                room_style.append(np.NaN)\n",
    "            else:\n",
    "                room_style.append(rooms_style.text)\n",
    "                \n",
    "            #features\n",
    "            feature = container.find('div',attrs={'class':\"c59cd18527\"})\n",
    "            if feature is None:\n",
    "                features.append(np.NaN)\n",
    "            else:\n",
    "                features.append(feature.text)\n",
    "\n",
    "            #price\n",
    "            prices = container.find('span', attrs={'class' : \"f6431b446c fbfd7c1165 e84eb96b1f\"})\n",
    "            if prices is None:\n",
    "                price.append(np.NaN)\n",
    "            else:\n",
    "                price.append(prices.text)\n",
    "\n",
    "            #tax\n",
    "            tax = container.find('div',attrs={'class' : \"abf093bdfe f45d8e4c32\"})\n",
    "            if tax is None:\n",
    "                tax_charges.append(np.NaN)\n",
    "            else:\n",
    "                tax_charges.append(tax.text)\n",
    "    print('.',end=\"\")"
   ]
  },
  {
   "cell_type": "code",
   "execution_count": 188,
   "id": "6ad89e58",
   "metadata": {},
   "outputs": [
    {
     "name": "stdout",
     "output_type": "stream",
     "text": [
      "1000\n",
      "1000\n",
      "1000\n",
      "1000\n",
      "1000\n",
      "1000\n",
      "1000\n",
      "1000\n",
      "1000\n"
     ]
    }
   ],
   "source": [
    "print(len(hotel_name))\n",
    "print(len(location))\n",
    "print(len(ratings))\n",
    "print(len(reviews))\n",
    "print(len(review_title))\n",
    "print(len(room_style))\n",
    "print(len(price))\n",
    "print(len(tax_charges))\n",
    "print(len(features))"
   ]
  },
  {
   "cell_type": "code",
   "execution_count": 189,
   "id": "ee2cde23",
   "metadata": {},
   "outputs": [],
   "source": [
    "import pandas as pd\n",
    "\n",
    "df = pd.DataFrame({'hotel_name':hotel_name,\n",
    "'location':location,\n",
    "                   'features':features,\n",
    "'ratings':ratings,\n",
    "'reviews':reviews,\n",
    "'review_title':review_title,\n",
    "'room_style':room_style,\n",
    "'price':price,\n",
    " 'tax_charges':tax_charges                 })"
   ]
  },
  {
   "cell_type": "code",
   "execution_count": 190,
   "id": "997d80c8",
   "metadata": {},
   "outputs": [
    {
     "data": {
      "text/html": [
       "<div>\n",
       "<style scoped>\n",
       "    .dataframe tbody tr th:only-of-type {\n",
       "        vertical-align: middle;\n",
       "    }\n",
       "\n",
       "    .dataframe tbody tr th {\n",
       "        vertical-align: top;\n",
       "    }\n",
       "\n",
       "    .dataframe thead th {\n",
       "        text-align: right;\n",
       "    }\n",
       "</style>\n",
       "<table border=\"1\" class=\"dataframe\">\n",
       "  <thead>\n",
       "    <tr style=\"text-align: right;\">\n",
       "      <th></th>\n",
       "      <th>hotel_name</th>\n",
       "      <th>location</th>\n",
       "      <th>features</th>\n",
       "      <th>ratings</th>\n",
       "      <th>reviews</th>\n",
       "      <th>review_title</th>\n",
       "      <th>room_style</th>\n",
       "      <th>price</th>\n",
       "      <th>tax_charges</th>\n",
       "    </tr>\n",
       "  </thead>\n",
       "  <tbody>\n",
       "    <tr>\n",
       "      <th>0</th>\n",
       "      <td>Candolim Serenity Resort - Top Rated &amp; Most Aw...</td>\n",
       "      <td>Old Goa</td>\n",
       "      <td>Double Room1 double bedFree cancellationNo pre...</td>\n",
       "      <td>7.4</td>\n",
       "      <td>12 reviews</td>\n",
       "      <td>Good</td>\n",
       "      <td>Double Room</td>\n",
       "      <td>₹ 39,060</td>\n",
       "      <td>3 nights, 2 adults</td>\n",
       "    </tr>\n",
       "    <tr>\n",
       "      <th>1</th>\n",
       "      <td>Hotel Golden Rice Sarenity With Swimming Pool,...</td>\n",
       "      <td>Aguada</td>\n",
       "      <td>Deluxe Room1 double bedFree cancellation</td>\n",
       "      <td>6.7</td>\n",
       "      <td>55 reviews</td>\n",
       "      <td>Review score</td>\n",
       "      <td>Deluxe Room</td>\n",
       "      <td>₹ 47,811</td>\n",
       "      <td>3 nights, 2 adults</td>\n",
       "    </tr>\n",
       "    <tr>\n",
       "      <th>2</th>\n",
       "      <td>Ronnie's Studio Apartment</td>\n",
       "      <td>Saligao</td>\n",
       "      <td>Apartment with BalconyEntire apartment • 1 bed...</td>\n",
       "      <td>7.9</td>\n",
       "      <td>123 reviews</td>\n",
       "      <td>Good</td>\n",
       "      <td>Apartment with Balcony</td>\n",
       "      <td>₹ 34,097</td>\n",
       "      <td>3 nights, 2 adults</td>\n",
       "    </tr>\n",
       "    <tr>\n",
       "      <th>3</th>\n",
       "      <td>La Vera Boutique Hotel</td>\n",
       "      <td>Mandrem</td>\n",
       "      <td>Standard King Room1 extra-large double bedFree...</td>\n",
       "      <td>8.0</td>\n",
       "      <td>218 reviews</td>\n",
       "      <td>Very good</td>\n",
       "      <td>Standard King Room</td>\n",
       "      <td>₹ 37,725</td>\n",
       "      <td>3 nights, 2 adults</td>\n",
       "    </tr>\n",
       "    <tr>\n",
       "      <th>4</th>\n",
       "      <td>The Golden Wings Resort, Goa - Property of the...</td>\n",
       "      <td>Aguada</td>\n",
       "      <td>Deluxe Room1 double bedFree cancellationOnly 3...</td>\n",
       "      <td>6.1</td>\n",
       "      <td>7 reviews</td>\n",
       "      <td>Review score</td>\n",
       "      <td>Deluxe Room</td>\n",
       "      <td>₹ 40,497</td>\n",
       "      <td>3 nights, 2 adults</td>\n",
       "    </tr>\n",
       "  </tbody>\n",
       "</table>\n",
       "</div>"
      ],
      "text/plain": [
       "                                          hotel_name location  \\\n",
       "0  Candolim Serenity Resort - Top Rated & Most Aw...  Old Goa   \n",
       "1  Hotel Golden Rice Sarenity With Swimming Pool,...   Aguada   \n",
       "2                          Ronnie's Studio Apartment  Saligao   \n",
       "3                             La Vera Boutique Hotel  Mandrem   \n",
       "4  The Golden Wings Resort, Goa - Property of the...   Aguada   \n",
       "\n",
       "                                            features ratings      reviews  \\\n",
       "0  Double Room1 double bedFree cancellationNo pre...     7.4   12 reviews   \n",
       "1           Deluxe Room1 double bedFree cancellation     6.7   55 reviews   \n",
       "2  Apartment with BalconyEntire apartment • 1 bed...     7.9  123 reviews   \n",
       "3  Standard King Room1 extra-large double bedFree...     8.0  218 reviews   \n",
       "4  Deluxe Room1 double bedFree cancellationOnly 3...     6.1    7 reviews   \n",
       "\n",
       "    review_title              room_style     price         tax_charges  \n",
       "0          Good              Double Room  ₹ 39,060  3 nights, 2 adults  \n",
       "1  Review score              Deluxe Room  ₹ 47,811  3 nights, 2 adults  \n",
       "2          Good   Apartment with Balcony  ₹ 34,097  3 nights, 2 adults  \n",
       "3     Very good       Standard King Room  ₹ 37,725  3 nights, 2 adults  \n",
       "4  Review score              Deluxe Room  ₹ 40,497  3 nights, 2 adults  "
      ]
     },
     "execution_count": 190,
     "metadata": {},
     "output_type": "execute_result"
    }
   ],
   "source": [
    "df.head()"
   ]
  },
  {
   "cell_type": "code",
   "execution_count": 191,
   "id": "99c3564b",
   "metadata": {},
   "outputs": [
    {
     "data": {
      "text/plain": [
       "(1000, 9)"
      ]
     },
     "execution_count": 191,
     "metadata": {},
     "output_type": "execute_result"
    }
   ],
   "source": [
    "df.shape"
   ]
  },
  {
   "cell_type": "code",
   "execution_count": 192,
   "id": "8a254105",
   "metadata": {},
   "outputs": [],
   "source": [
    "df.to_csv('Downloads/goa.csv',index=False)"
   ]
  },
  {
   "cell_type": "code",
   "execution_count": null,
   "id": "efc29447",
   "metadata": {},
   "outputs": [],
   "source": []
  },
  {
   "cell_type": "markdown",
   "id": "31cc8592",
   "metadata": {},
   "source": [
    "### Mumbai"
   ]
  },
  {
   "cell_type": "code",
   "execution_count": 193,
   "id": "110f84cc",
   "metadata": {},
   "outputs": [],
   "source": [
    "URL = \"https://www.booking.com/searchresults.en-gb.html?ss=Mumbai%2C+Maharashtra%2C+India&ssne=Mumbai&ssne_untouched=Mumbai&label=en-in-booking-desktop-SoQWfYhAMBURf0HSQntj1AS652796016141%3Apl%3Ata%3Ap1%3Ap2%3Aac%3Aap%3Aneg%3Afi%3Atikwd-334108349%3Alp9181929%3Ali%3Adec%3Adm&aid=2311236&lang=en-gb&sb=1&src_elem=sb&src=searchresults&dest_id=-2092174&dest_type=city&ac_position=0&ac_click_type=b&ac_langcode=en&ac_suggestion_list_length=5&search_selected=true&search_pageview_id=732c8d751a68004b&ac_meta=GhA3MzJjOGQ3NTFhNjgwMDRiIAAoATICZW46Am11QABKAFAA&checkin=2023-12-30&checkout=2024-01-02&group_adults=2&no_rooms=1&group_children=0\""
   ]
  },
  {
   "cell_type": "code",
   "execution_count": 194,
   "id": "9be4af18",
   "metadata": {},
   "outputs": [],
   "source": [
    "response_headers = {'Content-Type':'text/html; charset=UTF-8',\n",
    "    'User-Agent':'Mozilla/5.0 (Windows NT 10.0; Win64; x64) AppleWebKit/537.36 (KHTML, like Gecko) Chrome/119.0.0.0 Safari/537.36',\n",
    "                   'Accept-Encoding':'gzip, deflate, br'}"
   ]
  },
  {
   "cell_type": "code",
   "execution_count": 195,
   "id": "40d15c12",
   "metadata": {},
   "outputs": [
    {
     "name": "stdout",
     "output_type": "stream",
     "text": [
      "200\n"
     ]
    }
   ],
   "source": [
    "response = requests.get(URL,headers=response_headers)\n",
    "\n",
    "print(response.status_code)"
   ]
  },
  {
   "cell_type": "code",
   "execution_count": 196,
   "id": "0c22ab3f",
   "metadata": {},
   "outputs": [
    {
     "data": {
      "text/plain": [
       "{'Content-Type': 'text/html; charset=UTF-8', 'Transfer-Encoding': 'chunked', 'Connection': 'keep-alive', 'server': 'nginx', 'date': 'Wed, 15 Nov 2023 20:08:03 GMT', 'cache-control': 'private', 'vary': 'Accept-Encoding, User-Agent', 'content-encoding': 'br', 'link': '<https://cf2.bstatic.com/static/css/gprof_icons_cft.iq_ltr/60e37364b1896e222318be24dd92021af534f6c9.css>; rel=preload; as=style, <https://cf2.bstatic.com/static/css/incentives_cft.iq_ltr/98e6aefc0317ddd27241b2be47c262ae876bd710.css>; rel=preload; as=style, <https://cf2.bstatic.com/static/css/main_cft.iq_ltr/7035f0d5adb433e7cdc3e3e2cfe120d01c99f475.css>; rel=preload; as=style, <https://cf2.bstatic.com/static/css/main_exps_cft.iq_ltr/aa8ce93e2b5a2a66a96a4229b6422808ff893548.css>; rel=preload; as=style, <https://cf2.bstatic.com/static/css/mlt_cft.iq_ltr.css>; rel=preload; as=style, <https://cf2.bstatic.com/static/css/searchresults_cft.iq_ltr/243a261b6dda863822b8b545b63f26f1a273ad58.css>; rel=preload; as=style', 'nel': '{\"max_age\":604800,\"report_to\":\"default\"}', 'report-to': '{\"endpoints\":[{\"url\":\"https://nellie.booking.com/report\"}],\"max_age\":604800,\"group\":\"default\"}', 'set-cookie': '_pxhd=hpOweWV8fkAP81OPCDTm7WObkKfG8MefObxDI6hMbxZRC6P6uX0LQazzn3A6ONKTqw42SSt7UbdnlzdlnT8KJw%253D%253D%253A-NvfnsPiO1MDJf6yc-LjXNuYBh7kegNOn1jVYSZRetlqngchdUU5WnWG7-ZhJjdFL2MUnl6%252FW0Ay9AbjE%252F-mWsDDTFkTS9k%252FFGnp8UgQol4%253D; domain=booking.com; path=/; expires=Thu, 14-Nov-2024 20:08:02 GMT, _implmdnbl=2__1__0; path=/; expires=Fri, 16-Nov-2018 20:08:02 GMT; HttpOnly, px_init=100; domain=booking.com; expires=Sun, 28-Nov-2077 16:16:04 GMT; SameSite=Strict; secure; HttpOnly, bkng=11UmFuZG9tSVYkc2RlIyh9Yaa29%2F3xUOLbiKbS0JOgDBLcunGxVYxoYuQrGy2%2FrcJECyhCEICPRhYGYvN5XqapGrEvLYQ4Zgohn%2FmNKv4rM7fr2iWKpEzH%2FELrRKUIg50AC0OyJCFI1KdXKF%2B7jKsJ2XnqZPUJHTr0ZWXsQdNtkIotiQQ35en%2FluiQFOlN%2BikhLszovvcaFHk%3D; domain=.booking.com; path=/; expires=Mon, 13-Nov-2028 20:08:03 GMT; Secure; HTTPOnly; SameSite=None, bkng_sso_auth=CAIQsOnuTRpysCjfbpqzEZTY7vc2y+CxyC2nlqIzIrKUIAJF/0UEWaAJBTFtt6aR3JD0mU3Ns1BGhxxKK//4/eIl7cRSykEPEcoRKhN/cNB0qcT7LG0yVZ9l/199IxYigLEkaMHjCcycE9HakN9WU44ymI9JCpnV/nOz; Domain=.booking.com; Path=/; Expires=Wed, 22 Nov 2023 20:08:02 GMT; HttpOnly; Secure, pcm_consent=analytical%3Dtrue%26countryCode%3DIN%26consentId%3D27ff7844-1703-4809-8bfc-d3b0a811197a%26consentedAt%3D2023-11-15T20%3A08%3A02.568Z%26expiresAt%3D2024-05-13T20%3A08%3A02.568Z%26implicit%3Dtrue%26marketing%3Dtrue%26regionCode%3DTG%26regulation%3Dnone%26legacyRegulation%3Dnone; Domain=.booking.com; Path=/; Expires=Wed, 22 Nov 2023 20:08:02 GMT; HttpOnly; Secure', 'strict-transport-security': 'max-age=300; includeSubDomains', 'x-content-type-options': 'nosniff', 'x-recruiting': 'Like HTTP headers? Come write ours: https://careers.booking.com', 'content-security-policy': \"report-uri https://nellie.booking.com/csp-report-uri?type=block&tag=153&pid=800b8d9141ea0153&e=UmFuZG9tSVYkc2RlIyh9YRdubXl3m7MIPItwv4TRRzARPrDvNuzlrZRhHitUATQyNP3ANwUlAlW3SfgwcfltOg; script-src 'self' 'nonce-PBtfuNFmbf6Vw5w' 'report-sample' 'unsafe-eval' 'unsafe-inline' 'strict-dynamic' https: 'sha256-47mKTaMaEn1L3m5DAz9muidMqw636xxw7EFAK/YnPdg=' 'sha256-iry7oJKoKJ+9HSjmU3E1TlRlpSesJWZ1vapuUz2MP38=' 'sha256-2rvfFrggTCtyF5WOiTri1gDS8Boibj4Njn0e+VCBmDI=' 'sha256-47DEQpj8HBSa+/TImW+5JCeuQeRkm5NMpJWZG3hSuFU='\", 'x-xss-protection': '1; mode=block', 'X-Cache': 'Miss from cloudfront', 'Via': '1.1 f406af12d8877246aa8a59ae1a29e1e8.cloudfront.net (CloudFront)', 'X-Amz-Cf-Pop': 'HYD57-P2', 'X-Amz-Cf-Id': 'SFzyayGNOdEOX5DdbP69LHJ0FPD0oiCA7J9jvj8VzL6Ml5dTaXkYFA=='}"
      ]
     },
     "execution_count": 196,
     "metadata": {},
     "output_type": "execute_result"
    }
   ],
   "source": [
    "response.headers"
   ]
  },
  {
   "cell_type": "code",
   "execution_count": 197,
   "id": "6e35b381",
   "metadata": {},
   "outputs": [
    {
     "name": "stdout",
     "output_type": "stream",
     "text": [
      "<class 'str'>\n"
     ]
    }
   ],
   "source": [
    "html_code = response.text\n",
    "\n",
    "print(type(response.text))"
   ]
  },
  {
   "cell_type": "code",
   "execution_count": 198,
   "id": "f9fd30e4",
   "metadata": {},
   "outputs": [],
   "source": [
    "soup3 = BeautifulSoup(html_code)"
   ]
  },
  {
   "cell_type": "code",
   "execution_count": 209,
   "id": "fb1e85cc",
   "metadata": {},
   "outputs": [
    {
     "name": "stdout",
     "output_type": "stream",
     "text": [
      ".............................."
     ]
    }
   ],
   "source": [
    "import numpy as np\n",
    "\n",
    "\n",
    "\n",
    "hotel_name = []\n",
    "location = []\n",
    "ratings = []\n",
    "reviews = []\n",
    "review_title = []\n",
    "room_style = []\n",
    "price = []\n",
    "tax_charges = []\n",
    "features = []\n",
    "\n",
    "for i in range(0,726,25):\n",
    "    URL = \"https://www.booking.com/searchresults.en-gb.html?label=en-in-booking-desktop-SoQWfYhAMBURf0HSQntj1AS652796016141%3Apl%3Ata%3Ap1%3Ap2%3Aac%3Aap%3Aneg%3Afi%3Atikwd-334108349%3Alp9181929%3Ali%3Adec%3Adm&aid=2311236&ss=Mumbai%2C+Maharashtra%2C+India&ssne=Mumbai&ssne_untouched=Mumbai&lang=en-gb&sb=1&src_elem=sb&src=searchresults&dest_id=-2092174&dest_type=city&ac_position=0&ac_click_type=b&ac_langcode=en&ac_suggestion_list_length=5&search_selected=true&search_pageview_id=732c8d751a68004b&ac_meta=GhA3MzJjOGQ3NTFhNjgwMDRiIAAoATICZW46Am11QABKAFAA&checkin=2023-12-30&checkout=2024-01-02&group_adults=2&no_rooms=1&group_children=0&offset={}\".format(i)\n",
    "    response_headers = {'Content-Type':'text/html; charset=UTF-8',\n",
    "        'User-Agent':'Mozilla/5.0 (Windows NT 10.0; Win64; x64) AppleWebKit/537.36 (KHTML, like Gecko) Chrome/119.0.0.0 Safari/537.36',\n",
    "                   'Accept-Encoding':'gzip, deflate, br'}\n",
    "    response = requests.get(URL,headers =response_headers)\n",
    "    html_code = response.text\n",
    "    soup3 = BeautifulSoup(html_code)\n",
    "\n",
    "    containers = soup3.find_all('div',attrs={'class' :\"c82435a4b8 a178069f51 a6ae3c2b40 a18aeea94d d794b7a0f7 f53e278e95 c6710787a4\"})\n",
    "        \n",
    "    for container in containers:\n",
    "       \n",
    "            #hotel_name\n",
    "            name = container.find('div', attrs={\"f6431b446c a15b38c233\"})\n",
    "            if name is None:\n",
    "                hotel_name.append(np.NaN)\n",
    "            else:\n",
    "                hotel_name.append(name.text)\n",
    "\n",
    "            #place\n",
    "            place = container.find('span',attrs={'class' : \"aee5343fdb def9bc142a\"})\n",
    "            if place is None:\n",
    "                location.append(np.NaN)\n",
    "            else:\n",
    "                location.append(place.text)\n",
    "\n",
    "            #rating\n",
    "            rating = container.find('div', attrs = {'class' : \"a3b8729ab1 d86cee9b25\"})\n",
    "\n",
    "            if rating is None:\n",
    "                ratings.append(np.NaN)\n",
    "            else:\n",
    "                ratings.append(rating.text)\n",
    "\n",
    "            #reviews\n",
    "            review = container.find('div', attrs = {'class' : \"abf093bdfe f45d8e4c32 d935416c47\"})\n",
    "\n",
    "            if review is None:\n",
    "                reviews.append(np.NaN)\n",
    "            else:\n",
    "                reviews.append(review.text)\n",
    "\n",
    "            #review_title\n",
    "            reviews_title = container.find('div',attrs={'class' : \"a3b8729ab1 e6208ee469 cb2cbb3ccb\"})\n",
    "            if reviews_title is None:\n",
    "                review_title.append(np.NaN)\n",
    "            else:\n",
    "                review_title.append(reviews_title.text)\n",
    "\n",
    "            #room_style\n",
    "            rooms_style = container.find('h4',attrs={'class' : \"abf093bdfe e8f7c070a7\"})\n",
    "            if rooms_style is None:\n",
    "                room_style.append(np.NaN)\n",
    "            else:\n",
    "                room_style.append(rooms_style.text)\n",
    "                \n",
    "            #features\n",
    "            feature = container.find('div',attrs={'class':\"c59cd18527\"})\n",
    "            if feature is None:\n",
    "                features.append(np.NaN)\n",
    "            else:\n",
    "                features.append(feature.text)\n",
    "\n",
    "            #price\n",
    "            prices = container.find('span', attrs={'class' : \"f6431b446c fbfd7c1165 e84eb96b1f\"})\n",
    "            if prices is None:\n",
    "                price.append(np.NaN)\n",
    "            else:\n",
    "                price.append(prices.text)\n",
    "\n",
    "            #tax\n",
    "            tax = container.find('div',attrs={'class' : \"abf093bdfe f45d8e4c32\"})\n",
    "            if tax is None:\n",
    "                tax_charges.append(np.NaN)\n",
    "            else:\n",
    "                tax_charges.append(tax.text)\n",
    "    print('.',end=\"\")"
   ]
  },
  {
   "cell_type": "code",
   "execution_count": 210,
   "id": "543ecabd",
   "metadata": {},
   "outputs": [
    {
     "name": "stdout",
     "output_type": "stream",
     "text": [
      "748\n",
      "748\n",
      "748\n",
      "748\n",
      "748\n",
      "748\n",
      "748\n",
      "748\n",
      "748\n"
     ]
    }
   ],
   "source": [
    "print(len(hotel_name))\n",
    "print(len(location))\n",
    "print(len(ratings))\n",
    "print(len(reviews))\n",
    "print(len(review_title))\n",
    "print(len(room_style))\n",
    "print(len(price))\n",
    "print(len(tax_charges))\n",
    "print(len(features))"
   ]
  },
  {
   "cell_type": "code",
   "execution_count": 201,
   "id": "494b3911",
   "metadata": {},
   "outputs": [],
   "source": [
    "import pandas as pd\n",
    "\n",
    "df = pd.DataFrame({'hotel_name':hotel_name,\n",
    "'location':location,\n",
    "                   'features':features,\n",
    "'ratings':ratings,\n",
    "'reviews':reviews,\n",
    "'review_title':review_title,\n",
    "'room_style':room_style,\n",
    "'price':price,\n",
    " 'tax_charges':tax_charges                 })"
   ]
  },
  {
   "cell_type": "code",
   "execution_count": 214,
   "id": "3f251128",
   "metadata": {},
   "outputs": [
    {
     "data": {
      "text/html": [
       "<div>\n",
       "<style scoped>\n",
       "    .dataframe tbody tr th:only-of-type {\n",
       "        vertical-align: middle;\n",
       "    }\n",
       "\n",
       "    .dataframe tbody tr th {\n",
       "        vertical-align: top;\n",
       "    }\n",
       "\n",
       "    .dataframe thead th {\n",
       "        text-align: right;\n",
       "    }\n",
       "</style>\n",
       "<table border=\"1\" class=\"dataframe\">\n",
       "  <thead>\n",
       "    <tr style=\"text-align: right;\">\n",
       "      <th></th>\n",
       "      <th>hotel_name</th>\n",
       "      <th>location</th>\n",
       "      <th>features</th>\n",
       "      <th>ratings</th>\n",
       "      <th>reviews</th>\n",
       "      <th>review_title</th>\n",
       "      <th>room_style</th>\n",
       "      <th>price</th>\n",
       "      <th>tax_charges</th>\n",
       "    </tr>\n",
       "  </thead>\n",
       "  <tbody>\n",
       "    <tr>\n",
       "      <th>0</th>\n",
       "      <td>Trident Bandra Kurla</td>\n",
       "      <td>Bandra, Mumbai</td>\n",
       "      <td>Deluxe Room (King Bed)1 extra-large double bed...</td>\n",
       "      <td>8.8</td>\n",
       "      <td>3,666 reviews</td>\n",
       "      <td>Fabulous</td>\n",
       "      <td>Deluxe Room (King Bed)</td>\n",
       "      <td>₹ 40,250</td>\n",
       "      <td>3 nights, 2 adults</td>\n",
       "    </tr>\n",
       "    <tr>\n",
       "      <th>1</th>\n",
       "      <td>Country Inn By Turtle Hotel and Resort</td>\n",
       "      <td>Western Suburbs, Mumbai</td>\n",
       "      <td>Double Room with Balcony1 extra-large double b...</td>\n",
       "      <td>6.9</td>\n",
       "      <td>43 reviews</td>\n",
       "      <td>Review score</td>\n",
       "      <td>Double Room with Balcony</td>\n",
       "      <td>₹ 18,270</td>\n",
       "      <td>3 nights, 2 adults</td>\n",
       "    </tr>\n",
       "    <tr>\n",
       "      <th>2</th>\n",
       "      <td>Country Inn &amp; Suites By Turtle</td>\n",
       "      <td>Western Suburbs, Mumbai</td>\n",
       "      <td>Deluxe Room1 extra-large double bedBreakfast i...</td>\n",
       "      <td>7.7</td>\n",
       "      <td>145 reviews</td>\n",
       "      <td>Good</td>\n",
       "      <td>Deluxe Room</td>\n",
       "      <td>₹ 21,750</td>\n",
       "      <td>3 nights, 2 adults</td>\n",
       "    </tr>\n",
       "    <tr>\n",
       "      <th>3</th>\n",
       "      <td>Country Inn by UMRB</td>\n",
       "      <td>Western Suburbs, Mumbai</td>\n",
       "      <td>Family Room1 double bedBreakfast includedFree ...</td>\n",
       "      <td>6.6</td>\n",
       "      <td>7 reviews</td>\n",
       "      <td>Review score</td>\n",
       "      <td>Family Room</td>\n",
       "      <td>₹ 16,200</td>\n",
       "      <td>3 nights, 2 adults</td>\n",
       "    </tr>\n",
       "    <tr>\n",
       "      <th>4</th>\n",
       "      <td>Holiday Inn Mumbai International Airport, an I...</td>\n",
       "      <td>Western Suburbs, Mumbai</td>\n",
       "      <td>Superior King Room - Non-Smoking1 extra-large ...</td>\n",
       "      <td>7.9</td>\n",
       "      <td>1,678 reviews</td>\n",
       "      <td>Good</td>\n",
       "      <td>Superior King Room - Non-Smoking</td>\n",
       "      <td>₹ 35,622</td>\n",
       "      <td>3 nights, 2 adults</td>\n",
       "    </tr>\n",
       "  </tbody>\n",
       "</table>\n",
       "</div>"
      ],
      "text/plain": [
       "                                          hotel_name                 location  \\\n",
       "0                               Trident Bandra Kurla           Bandra, Mumbai   \n",
       "1             Country Inn By Turtle Hotel and Resort  Western Suburbs, Mumbai   \n",
       "2                     Country Inn & Suites By Turtle  Western Suburbs, Mumbai   \n",
       "3                                Country Inn by UMRB  Western Suburbs, Mumbai   \n",
       "4  Holiday Inn Mumbai International Airport, an I...  Western Suburbs, Mumbai   \n",
       "\n",
       "                                            features ratings        reviews  \\\n",
       "0  Deluxe Room (King Bed)1 extra-large double bed...     8.8  3,666 reviews   \n",
       "1  Double Room with Balcony1 extra-large double b...     6.9     43 reviews   \n",
       "2  Deluxe Room1 extra-large double bedBreakfast i...     7.7    145 reviews   \n",
       "3  Family Room1 double bedBreakfast includedFree ...     6.6      7 reviews   \n",
       "4  Superior King Room - Non-Smoking1 extra-large ...     7.9  1,678 reviews   \n",
       "\n",
       "    review_title                        room_style     price  \\\n",
       "0      Fabulous             Deluxe Room (King Bed)  ₹ 40,250   \n",
       "1  Review score           Double Room with Balcony  ₹ 18,270   \n",
       "2          Good                        Deluxe Room  ₹ 21,750   \n",
       "3  Review score                        Family Room  ₹ 16,200   \n",
       "4          Good   Superior King Room - Non-Smoking  ₹ 35,622   \n",
       "\n",
       "          tax_charges  \n",
       "0  3 nights, 2 adults  \n",
       "1  3 nights, 2 adults  \n",
       "2  3 nights, 2 adults  \n",
       "3  3 nights, 2 adults  \n",
       "4  3 nights, 2 adults  "
      ]
     },
     "execution_count": 214,
     "metadata": {},
     "output_type": "execute_result"
    }
   ],
   "source": [
    "df.head()"
   ]
  },
  {
   "cell_type": "code",
   "execution_count": 215,
   "id": "0c8c3b5a",
   "metadata": {},
   "outputs": [
    {
     "data": {
      "text/plain": [
       "(748, 9)"
      ]
     },
     "execution_count": 215,
     "metadata": {},
     "output_type": "execute_result"
    }
   ],
   "source": [
    "df.shape"
   ]
  },
  {
   "cell_type": "code",
   "execution_count": 202,
   "id": "36fe9f36",
   "metadata": {},
   "outputs": [],
   "source": [
    "df.to_csv('Downloads/mumbai.csv',index=False)"
   ]
  },
  {
   "cell_type": "code",
   "execution_count": null,
   "id": "287326eb",
   "metadata": {},
   "outputs": [],
   "source": []
  },
  {
   "cell_type": "markdown",
   "id": "7fa62d66",
   "metadata": {},
   "source": [
    "### Kolkata"
   ]
  },
  {
   "cell_type": "code",
   "execution_count": 203,
   "id": "f57d18a0",
   "metadata": {},
   "outputs": [],
   "source": [
    "URL =\"https://www.booking.com/searchresults.en-gb.html?ss=Kolkata%2C+West+Bengal%2C+India&ssne=Kolkata&ssne_untouched=Kolkata&label=en-in-booking-desktop-SoQWfYhAMBURf0HSQntj1AS652796016141%3Apl%3Ata%3Ap1%3Ap2%3Aac%3Aap%3Aneg%3Afi%3Atikwd-334108349%3Alp9181929%3Ali%3Adec%3Adm&aid=2311236&lang=en-gb&sb=1&src_elem=sb&src=searchresults&dest_id=-2092511&dest_type=city&ac_position=0&ac_click_type=b&ac_langcode=en&ac_suggestion_list_length=5&search_selected=true&search_pageview_id=08dc8e9ceb3e0203&ac_meta=GhAwOGRjOGU5Y2ViM2UwMjAzIAAoATICZW46A2tvbEAASgBQAA%3D%3D&checkin=2023-12-30&checkout=2024-01-02&group_adults=2&no_rooms=1&group_children=0\""
   ]
  },
  {
   "cell_type": "code",
   "execution_count": 204,
   "id": "45fc1ac5",
   "metadata": {},
   "outputs": [],
   "source": [
    "response_headers =  {'Content-Type':'text/html; charset=UTF-8',\n",
    "    'User-Agent':'Mozilla/5.0 (Windows NT 10.0; Win64; x64) AppleWebKit/537.36 (KHTML, like Gecko) Chrome/119.0.0.0 Safari/537.36',\n",
    "                   'Accept-Encoding':'gzip, deflate, br'}"
   ]
  },
  {
   "cell_type": "code",
   "execution_count": 205,
   "id": "7343050b",
   "metadata": {},
   "outputs": [
    {
     "name": "stdout",
     "output_type": "stream",
     "text": [
      "200\n"
     ]
    }
   ],
   "source": [
    "response = requests.get(URL,headers = response_headers)\n",
    "\n",
    "print(response.status_code)"
   ]
  },
  {
   "cell_type": "code",
   "execution_count": 206,
   "id": "77476598",
   "metadata": {},
   "outputs": [
    {
     "data": {
      "text/plain": [
       "{'Content-Type': 'text/html; charset=UTF-8', 'Transfer-Encoding': 'chunked', 'Connection': 'keep-alive', 'server': 'nginx', 'date': 'Wed, 15 Nov 2023 20:18:27 GMT', 'cache-control': 'private', 'vary': 'Accept-Encoding, User-Agent', 'content-encoding': 'br', 'link': '<https://cf2.bstatic.com/static/css/gprof_icons_cft.iq_ltr/60e37364b1896e222318be24dd92021af534f6c9.css>; rel=preload; as=style, <https://cf2.bstatic.com/static/css/incentives_cft.iq_ltr/98e6aefc0317ddd27241b2be47c262ae876bd710.css>; rel=preload; as=style, <https://cf2.bstatic.com/static/css/main_cft.iq_ltr/7035f0d5adb433e7cdc3e3e2cfe120d01c99f475.css>; rel=preload; as=style, <https://cf2.bstatic.com/static/css/main_exps_cft.iq_ltr/aa8ce93e2b5a2a66a96a4229b6422808ff893548.css>; rel=preload; as=style, <https://cf2.bstatic.com/static/css/mlt_cft.iq_ltr.css>; rel=preload; as=style, <https://cf2.bstatic.com/static/css/searchresults_cft.iq_ltr/243a261b6dda863822b8b545b63f26f1a273ad58.css>; rel=preload; as=style', 'nel': '{\"report_to\":\"default\",\"max_age\":604800}', 'report-to': '{\"endpoints\":[{\"url\":\"https://nellie.booking.com/report\"}],\"max_age\":604800,\"group\":\"default\"}', 'set-cookie': '_pxhd=ScgZUMZwFZifPcDaV3cmU4WKn586wSq3HwImd7E51rZyMDWyUF8Y%252FBux9X2SUqLFyFQ-AkQeowTlXobRt4vBFA%253D%253D%253AoTI0GBkoIrYRH6djOmZVHqaAwTSmUAZUkd6nwT6z9TUY2%252FdECXQVOPACI9Is38gGt7M16oYo26GnOF2Ejx6bQu7ItqlpFXeKdToIrB94JT0%253D; domain=booking.com; path=/; expires=Thu, 14-Nov-2024 20:18:26 GMT, _implmdnbl=2__1__0; path=/; expires=Fri, 16-Nov-2018 20:18:26 GMT; HttpOnly, px_init=100; domain=booking.com; expires=Sun, 28-Nov-2077 16:36:52 GMT; SameSite=Strict; secure; HttpOnly, bkng=11UmFuZG9tSVYkc2RlIyh9Yaa29%2F3xUOLbwcLxQQ4VaCpuQhc6J8uxe%2BD54adJ%2BYZHkGMIdjdTQW7lXaGKKWKOOrZjB22w5TCJuBhEcbhOPiS%2BLHDMhBKodba76A2GRe2uiYlayxXsVaCR0CRGS0TmTFeonIcCHHuJ4xw5FPU58nEmK1TBnwaeZ2LozexXp3ZKVSh9T%2F%2B5ZsI%3D; domain=.booking.com; path=/; expires=Mon, 13-Nov-2028 20:18:27 GMT; Secure; HTTPOnly; SameSite=None, bkng_sso_auth=CAIQsOnuTRpyTuFZVip3CEfiF3Yo3urXFf5SDXl5LpvJWB7HZpOWo5hd+NqU9nL7AbWG9sXfzaG4PzdyELpbR3BjVxFnhBhit4eUS/0YqGKaMvNaFmJ+ti6vphGppUpr/9IEBFDmBlBATj6F4SuLZDfrLTKNhR2sNTfR; Domain=.booking.com; Path=/; Expires=Wed, 22 Nov 2023 20:18:26 GMT; HttpOnly; Secure, pcm_consent=analytical%3Dtrue%26countryCode%3DIN%26consentId%3D9f45c676-9df0-4c61-a82b-e1a83f512d6c%26consentedAt%3D2023-11-15T20%3A18%3A26.716Z%26expiresAt%3D2024-05-13T20%3A18%3A26.716Z%26implicit%3Dtrue%26marketing%3Dtrue%26regionCode%3DTG%26regulation%3Dnone%26legacyRegulation%3Dnone; Domain=.booking.com; Path=/; Expires=Wed, 22 Nov 2023 20:18:26 GMT; HttpOnly; Secure', 'strict-transport-security': 'max-age=300; includeSubDomains', 'x-content-type-options': 'nosniff', 'x-recruiting': 'Like HTTP headers? Come write ours: https://careers.booking.com', 'content-security-policy': \"report-uri https://nellie.booking.com/csp-report-uri?type=block&tag=153&pid=deb18ec983160008&e=UmFuZG9tSVYkc2RlIyh9YRdubXl3m7MIPItwv4TRRzARPrDvNuzlrdGZJjqAHejeVXQmA9-pdakPNS-471GM0A; script-src 'self' 'nonce-zZOHEQrR7p4X10f' 'report-sample' 'unsafe-eval' 'unsafe-inline' 'strict-dynamic' https: 'sha256-47mKTaMaEn1L3m5DAz9muidMqw636xxw7EFAK/YnPdg=' 'sha256-iry7oJKoKJ+9HSjmU3E1TlRlpSesJWZ1vapuUz2MP38=' 'sha256-2rvfFrggTCtyF5WOiTri1gDS8Boibj4Njn0e+VCBmDI=' 'sha256-47DEQpj8HBSa+/TImW+5JCeuQeRkm5NMpJWZG3hSuFU='\", 'x-xss-protection': '1; mode=block', 'X-Cache': 'Miss from cloudfront', 'Via': '1.1 2d5c0ab5576b26479fd28820bffd091e.cloudfront.net (CloudFront)', 'X-Amz-Cf-Pop': 'MAA50-P2', 'X-Amz-Cf-Id': '34Lt8oJwZ4v9LhA45nsIFwNaxlz2rTkdkHjEpp0FNOoLQrk45C8MCA=='}"
      ]
     },
     "execution_count": 206,
     "metadata": {},
     "output_type": "execute_result"
    }
   ],
   "source": [
    "response.headers"
   ]
  },
  {
   "cell_type": "code",
   "execution_count": 207,
   "id": "7f6d2d80",
   "metadata": {},
   "outputs": [
    {
     "name": "stdout",
     "output_type": "stream",
     "text": [
      "<class 'str'>\n"
     ]
    }
   ],
   "source": [
    "html_code = response.text\n",
    "\n",
    "print(type(response.text))"
   ]
  },
  {
   "cell_type": "code",
   "execution_count": 208,
   "id": "25d06adf",
   "metadata": {},
   "outputs": [],
   "source": [
    "soup4 = BeautifulSoup(html_code)"
   ]
  },
  {
   "cell_type": "code",
   "execution_count": 212,
   "id": "0690f3e8",
   "metadata": {},
   "outputs": [
    {
     "name": "stdout",
     "output_type": "stream",
     "text": [
      "......................"
     ]
    }
   ],
   "source": [
    "import numpy as np\n",
    "\n",
    "\n",
    "\n",
    "hotel_name = []\n",
    "location = []\n",
    "ratings = []\n",
    "reviews = []\n",
    "review_title = []\n",
    "room_style = []\n",
    "price = []\n",
    "tax_charges = []\n",
    "features = []\n",
    "\n",
    "for i in range(0,526,25):\n",
    "    URL = \"https://www.booking.com/searchresults.en-gb.html?label=en-in-booking-desktop-SoQWfYhAMBURf0HSQntj1AS652796016141%3Apl%3Ata%3Ap1%3Ap2%3Aac%3Aap%3Aneg%3Afi%3Atikwd-334108349%3Alp9181929%3Ali%3Adec%3Adm&aid=2311236&ss=Kolkata%2C+West+Bengal%2C+India&ssne=Kolkata&ssne_untouched=Kolkata&lang=en-gb&sb=1&src_elem=sb&src=searchresults&dest_id=-2092511&dest_type=city&ac_position=0&ac_click_type=b&ac_langcode=en&ac_suggestion_list_length=5&search_selected=true&search_pageview_id=08dc8e9ceb3e0203&ac_meta=GhAwOGRjOGU5Y2ViM2UwMjAzIAAoATICZW46A2tvbEAASgBQAA%3D%3D&checkin=2023-12-30&checkout=2024-01-02&group_adults=2&no_rooms=1&group_children=0&offset={}\".format(i)\n",
    "    response_headers = {'Content-Type':'text/html; charset=UTF-8',\n",
    "        'User-Agent':'Mozilla/5.0 (Windows NT 10.0; Win64; x64) AppleWebKit/537.36 (KHTML, like Gecko) Chrome/119.0.0.0 Safari/537.36',\n",
    "                   'Accept-Encoding':'gzip, deflate, br'}\n",
    "    response = requests.get(URL,headers =response_headers)\n",
    "    html_code = response.text\n",
    "    soup4 = BeautifulSoup(html_code)\n",
    "\n",
    "    containers = soup4.find_all('div',attrs={'class' :\"c82435a4b8 a178069f51 a6ae3c2b40 a18aeea94d d794b7a0f7 f53e278e95 c6710787a4\"})\n",
    "        \n",
    "    for container in containers:\n",
    "       \n",
    "            #hotel_name\n",
    "            name = container.find('div', attrs={\"f6431b446c a15b38c233\"})\n",
    "            if name is None:\n",
    "                hotel_name.append(np.NaN)\n",
    "            else:\n",
    "                hotel_name.append(name.text)\n",
    "\n",
    "            #place\n",
    "            place = container.find('span',attrs={'class' : \"aee5343fdb def9bc142a\"})\n",
    "            if place is None:\n",
    "                location.append(np.NaN)\n",
    "            else:\n",
    "                location.append(place.text)\n",
    "\n",
    "            #rating\n",
    "            rating = container.find('div', attrs = {'class' : \"a3b8729ab1 d86cee9b25\"})\n",
    "\n",
    "            if rating is None:\n",
    "                ratings.append(np.NaN)\n",
    "            else:\n",
    "                ratings.append(rating.text)\n",
    "\n",
    "            #reviews\n",
    "            review = container.find('div', attrs = {'class' : \"abf093bdfe f45d8e4c32 d935416c47\"})\n",
    "\n",
    "            if review is None:\n",
    "                reviews.append(np.NaN)\n",
    "            else:\n",
    "                reviews.append(review.text)\n",
    "\n",
    "            #review_title\n",
    "            reviews_title = container.find('div',attrs={'class' : \"a3b8729ab1 e6208ee469 cb2cbb3ccb\"})\n",
    "            if reviews_title is None:\n",
    "                review_title.append(np.NaN)\n",
    "            else:\n",
    "                review_title.append(reviews_title.text)\n",
    "\n",
    "            #room_style\n",
    "            rooms_style = container.find('h4',attrs={'class' : \"abf093bdfe e8f7c070a7\"})\n",
    "            if rooms_style is None:\n",
    "                room_style.append(np.NaN)\n",
    "            else:\n",
    "                room_style.append(rooms_style.text)\n",
    "                \n",
    "            #features\n",
    "            feature = container.find('div',attrs={'class':\"c59cd18527\"})\n",
    "            if feature is None:\n",
    "                features.append(np.NaN)\n",
    "            else:\n",
    "                features.append(feature.text)\n",
    "\n",
    "            #price\n",
    "            prices = container.find('span', attrs={'class' : \"f6431b446c fbfd7c1165 e84eb96b1f\"})\n",
    "            if prices is None:\n",
    "                price.append(np.NaN)\n",
    "            else:\n",
    "                price.append(prices.text)\n",
    "\n",
    "            #tax\n",
    "            tax = container.find('div',attrs={'class' : \"abf093bdfe f45d8e4c32\"})\n",
    "            if tax is None:\n",
    "                tax_charges.append(np.NaN)\n",
    "            else:\n",
    "                tax_charges.append(tax.text)\n",
    "    print('.',end=\"\")"
   ]
  },
  {
   "cell_type": "code",
   "execution_count": 216,
   "id": "4d60d32d",
   "metadata": {},
   "outputs": [
    {
     "name": "stdout",
     "output_type": "stream",
     "text": [
      "528\n",
      "528\n",
      "528\n",
      "528\n",
      "528\n",
      "528\n",
      "528\n",
      "528\n",
      "528\n"
     ]
    }
   ],
   "source": [
    "print(len(hotel_name))\n",
    "print(len(location))\n",
    "print(len(ratings))\n",
    "print(len(reviews))\n",
    "print(len(review_title))\n",
    "print(len(room_style))\n",
    "print(len(price))\n",
    "print(len(tax_charges))\n",
    "print(len(features))"
   ]
  },
  {
   "cell_type": "code",
   "execution_count": 217,
   "id": "abab3174",
   "metadata": {},
   "outputs": [],
   "source": [
    "import pandas as pd\n",
    "\n",
    "df = pd.DataFrame({'hotel_name':hotel_name,\n",
    "'location':location,\n",
    "                   'features':features,\n",
    "'ratings':ratings,\n",
    "'reviews':reviews,\n",
    "'review_title':review_title,\n",
    "'room_style':room_style,\n",
    "'price':price,\n",
    " 'tax_charges':tax_charges                 })"
   ]
  },
  {
   "cell_type": "code",
   "execution_count": 218,
   "id": "bc904abe",
   "metadata": {},
   "outputs": [
    {
     "data": {
      "text/html": [
       "<div>\n",
       "<style scoped>\n",
       "    .dataframe tbody tr th:only-of-type {\n",
       "        vertical-align: middle;\n",
       "    }\n",
       "\n",
       "    .dataframe tbody tr th {\n",
       "        vertical-align: top;\n",
       "    }\n",
       "\n",
       "    .dataframe thead th {\n",
       "        text-align: right;\n",
       "    }\n",
       "</style>\n",
       "<table border=\"1\" class=\"dataframe\">\n",
       "  <thead>\n",
       "    <tr style=\"text-align: right;\">\n",
       "      <th></th>\n",
       "      <th>hotel_name</th>\n",
       "      <th>location</th>\n",
       "      <th>features</th>\n",
       "      <th>ratings</th>\n",
       "      <th>reviews</th>\n",
       "      <th>review_title</th>\n",
       "      <th>room_style</th>\n",
       "      <th>price</th>\n",
       "      <th>tax_charges</th>\n",
       "    </tr>\n",
       "  </thead>\n",
       "  <tbody>\n",
       "    <tr>\n",
       "      <th>0</th>\n",
       "      <td>Park Suites</td>\n",
       "      <td>Park Street, Kolkata</td>\n",
       "      <td>Deluxe SuitePrivate suite1 extra-large double ...</td>\n",
       "      <td>8.3</td>\n",
       "      <td>558 reviews</td>\n",
       "      <td>Very good</td>\n",
       "      <td>Deluxe Suite</td>\n",
       "      <td>₹ 13,500</td>\n",
       "      <td>3 nights, 2 adults</td>\n",
       "    </tr>\n",
       "    <tr>\n",
       "      <th>1</th>\n",
       "      <td>FabHotel Sayeeda International</td>\n",
       "      <td>Ballygunge, Kolkata</td>\n",
       "      <td>Deluxe Room1 double bedFree cancellation</td>\n",
       "      <td>7.9</td>\n",
       "      <td>7 reviews</td>\n",
       "      <td>Good</td>\n",
       "      <td>Deluxe Room</td>\n",
       "      <td>₹ 5,284</td>\n",
       "      <td>3 nights, 2 adults</td>\n",
       "    </tr>\n",
       "    <tr>\n",
       "      <th>2</th>\n",
       "      <td>FabHotel Stay Inn International</td>\n",
       "      <td>Kolkata</td>\n",
       "      <td>Deluxe Room1 double bedFree cancellationOnly 4...</td>\n",
       "      <td>8.0</td>\n",
       "      <td>41 reviews</td>\n",
       "      <td>Very good</td>\n",
       "      <td>Deluxe Room</td>\n",
       "      <td>₹ 5,245</td>\n",
       "      <td>3 nights, 2 adults</td>\n",
       "    </tr>\n",
       "    <tr>\n",
       "      <th>3</th>\n",
       "      <td>Olive Service Apartments NewTown</td>\n",
       "      <td>New Town, Kolkata</td>\n",
       "      <td>Executive SuitePrivate suite • 1 bedroom • 1 l...</td>\n",
       "      <td>7.5</td>\n",
       "      <td>13 reviews</td>\n",
       "      <td>Good</td>\n",
       "      <td>Executive Suite</td>\n",
       "      <td>₹ 13,458</td>\n",
       "      <td>3 nights, 2 adults</td>\n",
       "    </tr>\n",
       "    <tr>\n",
       "      <th>4</th>\n",
       "      <td>FabHotel The Hastings Club</td>\n",
       "      <td>Kolkata</td>\n",
       "      <td>Deluxe Room1 double bedFree cancellationNo pre...</td>\n",
       "      <td>9.2</td>\n",
       "      <td>5 reviews</td>\n",
       "      <td>Superb</td>\n",
       "      <td>Deluxe Room</td>\n",
       "      <td>₹ 6,786</td>\n",
       "      <td>3 nights, 2 adults</td>\n",
       "    </tr>\n",
       "  </tbody>\n",
       "</table>\n",
       "</div>"
      ],
      "text/plain": [
       "                         hotel_name              location  \\\n",
       "0                       Park Suites  Park Street, Kolkata   \n",
       "1    FabHotel Sayeeda International   Ballygunge, Kolkata   \n",
       "2   FabHotel Stay Inn International               Kolkata   \n",
       "3  Olive Service Apartments NewTown     New Town, Kolkata   \n",
       "4        FabHotel The Hastings Club               Kolkata   \n",
       "\n",
       "                                            features ratings      reviews  \\\n",
       "0  Deluxe SuitePrivate suite1 extra-large double ...     8.3  558 reviews   \n",
       "1           Deluxe Room1 double bedFree cancellation     7.9    7 reviews   \n",
       "2  Deluxe Room1 double bedFree cancellationOnly 4...     8.0   41 reviews   \n",
       "3  Executive SuitePrivate suite • 1 bedroom • 1 l...     7.5   13 reviews   \n",
       "4  Deluxe Room1 double bedFree cancellationNo pre...     9.2    5 reviews   \n",
       "\n",
       "  review_title       room_style     price         tax_charges  \n",
       "0   Very good      Deluxe Suite  ₹ 13,500  3 nights, 2 adults  \n",
       "1        Good       Deluxe Room   ₹ 5,284  3 nights, 2 adults  \n",
       "2   Very good       Deluxe Room   ₹ 5,245  3 nights, 2 adults  \n",
       "3        Good   Executive Suite  ₹ 13,458  3 nights, 2 adults  \n",
       "4      Superb       Deluxe Room   ₹ 6,786  3 nights, 2 adults  "
      ]
     },
     "execution_count": 218,
     "metadata": {},
     "output_type": "execute_result"
    }
   ],
   "source": [
    "df.head()"
   ]
  },
  {
   "cell_type": "code",
   "execution_count": 219,
   "id": "b75c586a",
   "metadata": {},
   "outputs": [
    {
     "data": {
      "text/plain": [
       "(528, 9)"
      ]
     },
     "execution_count": 219,
     "metadata": {},
     "output_type": "execute_result"
    }
   ],
   "source": [
    "df.shape"
   ]
  },
  {
   "cell_type": "code",
   "execution_count": 220,
   "id": "8193aa70",
   "metadata": {},
   "outputs": [],
   "source": [
    "df.to_csv('Downloads/kolkata.csv',index=False)"
   ]
  },
  {
   "cell_type": "code",
   "execution_count": null,
   "id": "d7c8138d",
   "metadata": {},
   "outputs": [],
   "source": []
  },
  {
   "cell_type": "markdown",
   "id": "9049f17a",
   "metadata": {},
   "source": [
    "### Pondicherry"
   ]
  },
  {
   "cell_type": "code",
   "execution_count": 221,
   "id": "4c1e2817",
   "metadata": {},
   "outputs": [],
   "source": [
    "URL =\"https://www.booking.com/searchresults.en-gb.html?ss=Puducherry%2C+Pondicherry%2C+India&ssne=Puducherry&ssne_untouched=Puducherry&label=en-in-booking-desktop-SoQWfYhAMBURf0HSQntj1AS652796016141%3Apl%3Ata%3Ap1%3Ap2%3Aac%3Aap%3Aneg%3Afi%3Atikwd-334108349%3Alp9181929%3Ali%3Adec%3Adm&aid=2311236&lang=en-gb&sb=1&src_elem=sb&src=searchresults&dest_id=-2108165&dest_type=city&ac_position=0&ac_click_type=b&ac_langcode=en&ac_suggestion_list_length=5&search_selected=true&search_pageview_id=57ba8fd9608300e8&ac_meta=GhA1N2JhOGZkOTYwODMwMGU4IAAoATICZW46BXBvbmRpQABKAFAA&checkin=2023-12-30&checkout=2024-01-02&group_adults=2&no_rooms=1&group_children=0\""
   ]
  },
  {
   "cell_type": "code",
   "execution_count": 222,
   "id": "95c0ccb6",
   "metadata": {},
   "outputs": [],
   "source": [
    "response_headers =  {'Content-Type':'text/html; charset=UTF-8',\n",
    "    'User-Agent':'Mozilla/5.0 (Windows NT 10.0; Win64; x64) AppleWebKit/537.36 (KHTML, like Gecko) Chrome/119.0.0.0 Safari/537.36',\n",
    "                   'Accept-Encoding':'gzip, deflate, br'}"
   ]
  },
  {
   "cell_type": "code",
   "execution_count": 223,
   "id": "0e78dbc0",
   "metadata": {},
   "outputs": [
    {
     "name": "stdout",
     "output_type": "stream",
     "text": [
      "200\n"
     ]
    }
   ],
   "source": [
    "response = requests.get(URL,headers = response_headers)\n",
    "\n",
    "print(response.status_code)"
   ]
  },
  {
   "cell_type": "code",
   "execution_count": 224,
   "id": "af74d44e",
   "metadata": {},
   "outputs": [
    {
     "data": {
      "text/plain": [
       "{'Content-Type': 'text/html; charset=UTF-8', 'Transfer-Encoding': 'chunked', 'Connection': 'keep-alive', 'server': 'nginx', 'date': 'Wed, 15 Nov 2023 20:28:29 GMT', 'cache-control': 'private', 'vary': 'User-Agent, Accept-Encoding', 'content-encoding': 'br', 'link': '<https://cf.bstatic.com/static/css/gprof_icons_cloudfront_sd.iq_ltr/4ba3a053b4980db63ac9203a90c619cd1a17110c.css>; rel=preload; as=style, <https://cf.bstatic.com/static/css/incentives_cloudfront_sd.iq_ltr/f1558a6e9832a4eb8cfe1d3d14db176bd3564335.css>; rel=preload; as=style, <https://cf.bstatic.com/static/css/main_cloudfront_sd.iq_ltr/ee8c663159661f849c4a8188ebd4f756c0753603.css>; rel=preload; as=style, <https://cf.bstatic.com/static/css/main_exps_cloudfront_sd.iq_ltr/586b07455f7783cafa801bdea38881f1f98ad36d.css>; rel=preload; as=style, <https://cf.bstatic.com/static/css/mlt_cloudfront_sd.iq_ltr.css>; rel=preload; as=style, <https://cf.bstatic.com/static/css/searchresults_cloudfront_sd.iq_ltr/885babc30e639e45b835ee62ec85a2364292c143.css>; rel=preload; as=style', 'nel': '{\"max_age\":604800,\"report_to\":\"default\"}', 'report-to': '{\"endpoints\":[{\"url\":\"https://nellie.booking.com/report\"}],\"max_age\":604800,\"group\":\"default\"}', 'set-cookie': '_pxhd=CJ739f7zo1e25kmEdn0BHHzVCCA1CVgIkWjnxW1k4tmhX8BUvdAppMaKz-OX1x-8EXTZiCqb%252FBMW5XOIXbJYgA%253D%253D%253AJGNHiRS1ZHiMvy%252FkdfevsQTP2Nj%252FG7W5C6vILF3d5j9RxF4eW4mutjnpwQMq0BtXmgMLNMHmE5MSMaFZ8pnY8MhNL0b-pkHvjZtU2nVckiw%253D; domain=booking.com; path=/; expires=Thu, 14-Nov-2024 20:28:28 GMT, _implmdnbl=2__1__0; path=/; expires=Fri, 16-Nov-2018 20:28:29 GMT; HttpOnly, px_init=100; domain=booking.com; expires=Sun, 28-Nov-2077 16:56:58 GMT; SameSite=Strict; secure; HttpOnly, bkng=11UmFuZG9tSVYkc2RlIyh9Yaa29%2F3xUOLbof7CEiNviT%2Fetb%2FDLK4WVOa%2B3p0mUhjIN7EJhluOfz2%2FyvnRnuLGy1K9%2B53Vnpwa6NQeoFhRy0%2B0ZdloEKajU8uPws2UZkDY0i9iRzRuPqUPEMZ%2BMMPAo6HI5xpQYS1z9rAjyovUwmflPHRidJYFS0SbJ%2BBPzs5z2dkSikTi7gQ%3D; domain=.booking.com; path=/; expires=Mon, 13-Nov-2028 20:28:29 GMT; Secure; HTTPOnly; SameSite=None, bkng_sso_auth=CAIQsOnuTRpywtL1dKb8+gudSd9LUdrTLA58fbPKgOU2SJ0THvHqFWDZfHK1rCMw6RFU3woA4Nccd3+UL8M9UA21C18PNCdQ7KI7tR1nzV7LD7KeotlbkUmIIDUPtvNJeOU/nF7//9Cww2AKbCOxOVDdJPIH0Xs0K9a0; Domain=.booking.com; Path=/; Expires=Wed, 22 Nov 2023 20:28:28 GMT; HttpOnly; Secure, pcm_consent=analytical%3Dtrue%26countryCode%3DIN%26consentId%3Dff833fbe-a966-4b10-9296-c59648806bc8%26consentedAt%3D2023-11-15T20%3A28%3A28.886Z%26expiresAt%3D2024-05-13T20%3A28%3A28.886Z%26implicit%3Dtrue%26marketing%3Dtrue%26regionCode%3DTG%26regulation%3Dnone%26legacyRegulation%3Dnone; Domain=.booking.com; Path=/; Expires=Wed, 22 Nov 2023 20:28:28 GMT; HttpOnly; Secure', 'strict-transport-security': 'max-age=300; includeSubDomains', 'x-content-type-options': 'nosniff', 'x-recruiting': 'Like HTTP headers? Come write ours: https://careers.booking.com', 'content-security-policy': \"report-uri https://nellie.booking.com/csp-report-uri?type=block&tag=153&pid=7b118ff6db75008b&e=UmFuZG9tSVYkc2RlIyh9YRdubXl3m7MIPItwv4TRRzARPrDvNuzlreKKNnJqbMLZB-8nSZDakxpuWoAuBUIsXg; script-src 'self' 'nonce-rz4arwM0UbhK7j0' 'report-sample' 'unsafe-eval' 'unsafe-inline' 'strict-dynamic' https: 'sha256-47mKTaMaEn1L3m5DAz9muidMqw636xxw7EFAK/YnPdg=' 'sha256-iry7oJKoKJ+9HSjmU3E1TlRlpSesJWZ1vapuUz2MP38=' 'sha256-2rvfFrggTCtyF5WOiTri1gDS8Boibj4Njn0e+VCBmDI=' 'sha256-47DEQpj8HBSa+/TImW+5JCeuQeRkm5NMpJWZG3hSuFU='\", 'x-xss-protection': '1; mode=block', 'X-Cache': 'Miss from cloudfront', 'Via': '1.1 d1c7f96a2d8604c45e514f1070f77036.cloudfront.net (CloudFront)', 'X-Amz-Cf-Pop': 'HYD57-P2', 'X-Amz-Cf-Id': 'a1dSldAqCn6q488D8E2LIcJVXDB3yujfEEAuPE6-IVsROe0GeIKZLg=='}"
      ]
     },
     "execution_count": 224,
     "metadata": {},
     "output_type": "execute_result"
    }
   ],
   "source": [
    "response.headers"
   ]
  },
  {
   "cell_type": "code",
   "execution_count": 225,
   "id": "6fbf5e38",
   "metadata": {},
   "outputs": [
    {
     "name": "stdout",
     "output_type": "stream",
     "text": [
      "<class 'str'>\n"
     ]
    }
   ],
   "source": [
    "html_code = response.text\n",
    "\n",
    "print(type(response.text))"
   ]
  },
  {
   "cell_type": "code",
   "execution_count": 226,
   "id": "6903a6b5",
   "metadata": {},
   "outputs": [],
   "source": [
    "soup5 = BeautifulSoup(html_code)"
   ]
  },
  {
   "cell_type": "code",
   "execution_count": 227,
   "id": "21ee839e",
   "metadata": {},
   "outputs": [
    {
     "name": "stdout",
     "output_type": "stream",
     "text": [
      "......."
     ]
    }
   ],
   "source": [
    "import numpy as np\n",
    "\n",
    "\n",
    "\n",
    "hotel_name = []\n",
    "location = []\n",
    "ratings = []\n",
    "reviews = []\n",
    "review_title = []\n",
    "room_style = []\n",
    "price = []\n",
    "tax_charges = []\n",
    "features = []\n",
    "\n",
    "for i in range(0,151,25):\n",
    "    URL = \"https://www.booking.com/searchresults.en-gb.html?label=en-in-booking-desktop-SoQWfYhAMBURf0HSQntj1AS652796016141%3Apl%3Ata%3Ap1%3Ap2%3Aac%3Aap%3Aneg%3Afi%3Atikwd-334108349%3Alp9181929%3Ali%3Adec%3Adm&aid=2311236&ss=Puducherry%2C+Pondicherry%2C+India&ssne=Puducherry&ssne_untouched=Puducherry&lang=en-gb&sb=1&src_elem=sb&src=searchresults&dest_id=-2108165&dest_type=city&ac_position=0&ac_click_type=b&ac_langcode=en&ac_suggestion_list_length=5&search_selected=true&search_pageview_id=57ba8fd9608300e8&ac_meta=GhA1N2JhOGZkOTYwODMwMGU4IAAoATICZW46BXBvbmRpQABKAFAA&checkin=2023-12-30&checkout=2024-01-02&group_adults=2&no_rooms=1&group_children=0&offset={}\".format(i)\n",
    "    response_headers = {'Content-Type':'text/html; charset=UTF-8',\n",
    "        'User-Agent':'Mozilla/5.0 (Windows NT 10.0; Win64; x64) AppleWebKit/537.36 (KHTML, like Gecko) Chrome/119.0.0.0 Safari/537.36',\n",
    "                   'Accept-Encoding':'gzip, deflate, br'}\n",
    "    response = requests.get(URL,headers =response_headers)\n",
    "    html_code = response.text\n",
    "    soup5 = BeautifulSoup(html_code)\n",
    "\n",
    "    containers = soup5.find_all('div',attrs={'class' :\"c82435a4b8 a178069f51 a6ae3c2b40 a18aeea94d d794b7a0f7 f53e278e95 c6710787a4\"})\n",
    "        \n",
    "    for container in containers:\n",
    "       \n",
    "            #hotel_name\n",
    "            name = container.find('div', attrs={\"f6431b446c a15b38c233\"})\n",
    "            if name is None:\n",
    "                hotel_name.append(np.NaN)\n",
    "            else:\n",
    "                hotel_name.append(name.text)\n",
    "\n",
    "            #place\n",
    "            place = container.find('span',attrs={'class' : \"aee5343fdb def9bc142a\"})\n",
    "            if place is None:\n",
    "                location.append(np.NaN)\n",
    "            else:\n",
    "                location.append(place.text)\n",
    "\n",
    "            #rating\n",
    "            rating = container.find('div', attrs = {'class' : \"a3b8729ab1 d86cee9b25\"})\n",
    "\n",
    "            if rating is None:\n",
    "                ratings.append(np.NaN)\n",
    "            else:\n",
    "                ratings.append(rating.text)\n",
    "\n",
    "            #reviews\n",
    "            review = container.find('div', attrs = {'class' : \"abf093bdfe f45d8e4c32 d935416c47\"})\n",
    "\n",
    "            if review is None:\n",
    "                reviews.append(np.NaN)\n",
    "            else:\n",
    "                reviews.append(review.text)\n",
    "\n",
    "            #review_title\n",
    "            reviews_title = container.find('div',attrs={'class' : \"a3b8729ab1 e6208ee469 cb2cbb3ccb\"})\n",
    "            if reviews_title is None:\n",
    "                review_title.append(np.NaN)\n",
    "            else:\n",
    "                review_title.append(reviews_title.text)\n",
    "\n",
    "            #room_style\n",
    "            rooms_style = container.find('h4',attrs={'class' : \"abf093bdfe e8f7c070a7\"})\n",
    "            if rooms_style is None:\n",
    "                room_style.append(np.NaN)\n",
    "            else:\n",
    "                room_style.append(rooms_style.text)\n",
    "                \n",
    "            #features\n",
    "            feature = container.find('div',attrs={'class':\"c59cd18527\"})\n",
    "            if feature is None:\n",
    "                features.append(np.NaN)\n",
    "            else:\n",
    "                features.append(feature.text)\n",
    "\n",
    "            #price\n",
    "            prices = container.find('span', attrs={'class' : \"f6431b446c fbfd7c1165 e84eb96b1f\"})\n",
    "            if prices is None:\n",
    "                price.append(np.NaN)\n",
    "            else:\n",
    "                price.append(prices.text)\n",
    "\n",
    "            #tax\n",
    "            tax = container.find('div',attrs={'class' : \"abf093bdfe f45d8e4c32\"})\n",
    "            if tax is None:\n",
    "                tax_charges.append(np.NaN)\n",
    "            else:\n",
    "                tax_charges.append(tax.text)\n",
    "    print('.',end=\"\")"
   ]
  },
  {
   "cell_type": "code",
   "execution_count": 228,
   "id": "43a740b4",
   "metadata": {},
   "outputs": [
    {
     "name": "stdout",
     "output_type": "stream",
     "text": [
      "163\n",
      "163\n",
      "163\n",
      "163\n",
      "163\n",
      "163\n",
      "163\n",
      "163\n",
      "163\n"
     ]
    }
   ],
   "source": [
    "print(len(hotel_name))\n",
    "print(len(location))\n",
    "print(len(ratings))\n",
    "print(len(reviews))\n",
    "print(len(review_title))\n",
    "print(len(room_style))\n",
    "print(len(price))\n",
    "print(len(tax_charges))\n",
    "print(len(features))"
   ]
  },
  {
   "cell_type": "code",
   "execution_count": 229,
   "id": "f9879173",
   "metadata": {},
   "outputs": [],
   "source": [
    "import pandas as pd\n",
    "\n",
    "df = pd.DataFrame({'hotel_name':hotel_name,\n",
    "'location':location,\n",
    "                   'features':features,\n",
    "'ratings':ratings,\n",
    "'reviews':reviews,\n",
    "'review_title':review_title,\n",
    "'room_style':room_style,\n",
    "'price':price,\n",
    " 'tax_charges':tax_charges                 })"
   ]
  },
  {
   "cell_type": "code",
   "execution_count": 230,
   "id": "8afcf446",
   "metadata": {},
   "outputs": [
    {
     "data": {
      "text/html": [
       "<div>\n",
       "<style scoped>\n",
       "    .dataframe tbody tr th:only-of-type {\n",
       "        vertical-align: middle;\n",
       "    }\n",
       "\n",
       "    .dataframe tbody tr th {\n",
       "        vertical-align: top;\n",
       "    }\n",
       "\n",
       "    .dataframe thead th {\n",
       "        text-align: right;\n",
       "    }\n",
       "</style>\n",
       "<table border=\"1\" class=\"dataframe\">\n",
       "  <thead>\n",
       "    <tr style=\"text-align: right;\">\n",
       "      <th></th>\n",
       "      <th>hotel_name</th>\n",
       "      <th>location</th>\n",
       "      <th>features</th>\n",
       "      <th>ratings</th>\n",
       "      <th>reviews</th>\n",
       "      <th>review_title</th>\n",
       "      <th>room_style</th>\n",
       "      <th>price</th>\n",
       "      <th>tax_charges</th>\n",
       "    </tr>\n",
       "  </thead>\n",
       "  <tbody>\n",
       "    <tr>\n",
       "      <th>0</th>\n",
       "      <td>Dune de L'orient</td>\n",
       "      <td>White Town, Puducherry</td>\n",
       "      <td>Budget Double Room1 double bedBreakfast includ...</td>\n",
       "      <td>7.5</td>\n",
       "      <td>165 reviews</td>\n",
       "      <td>Good</td>\n",
       "      <td>Budget Double Room</td>\n",
       "      <td>₹ 36,224</td>\n",
       "      <td>3 nights, 2 adults</td>\n",
       "    </tr>\n",
       "    <tr>\n",
       "      <th>1</th>\n",
       "      <td>Sapphire Inn</td>\n",
       "      <td>Puducherry</td>\n",
       "      <td>Standard Double Room2 beds (1 double, 1 futon)...</td>\n",
       "      <td>6.7</td>\n",
       "      <td>54 reviews</td>\n",
       "      <td>Review score</td>\n",
       "      <td>Standard Double Room</td>\n",
       "      <td>₹ 13,997</td>\n",
       "      <td>3 nights, 2 adults</td>\n",
       "    </tr>\n",
       "    <tr>\n",
       "      <th>2</th>\n",
       "      <td>Nomad House</td>\n",
       "      <td>Puducherry</td>\n",
       "      <td>4-Bed Mixed Dormitory RoomShared dormitory roo...</td>\n",
       "      <td>8.1</td>\n",
       "      <td>68 reviews</td>\n",
       "      <td>Very good</td>\n",
       "      <td>4-Bed Mixed Dormitory Room</td>\n",
       "      <td>₹ 18,000</td>\n",
       "      <td>3 nights, 2 adults</td>\n",
       "    </tr>\n",
       "    <tr>\n",
       "      <th>3</th>\n",
       "      <td>Pranaav Beach Resort</td>\n",
       "      <td>Puducherry</td>\n",
       "      <td>Double Room with Balcony1 large double bedBrea...</td>\n",
       "      <td>9.5</td>\n",
       "      <td>73 reviews</td>\n",
       "      <td>Exceptional</td>\n",
       "      <td>Double Room with Balcony</td>\n",
       "      <td>₹ 25,700</td>\n",
       "      <td>3 nights, 2 adults</td>\n",
       "    </tr>\n",
       "    <tr>\n",
       "      <th>4</th>\n",
       "      <td>Villa Shanti - Heritage Hotel for Foodies</td>\n",
       "      <td>White Town, Puducherry</td>\n",
       "      <td>Executive SuitePrivate suite1 double bedBreakf...</td>\n",
       "      <td>8.4</td>\n",
       "      <td>294 reviews</td>\n",
       "      <td>Very good</td>\n",
       "      <td>Executive Suite</td>\n",
       "      <td>₹ 55,500</td>\n",
       "      <td>3 nights, 2 adults</td>\n",
       "    </tr>\n",
       "  </tbody>\n",
       "</table>\n",
       "</div>"
      ],
      "text/plain": [
       "                                  hotel_name                location  \\\n",
       "0                           Dune de L'orient  White Town, Puducherry   \n",
       "1                               Sapphire Inn              Puducherry   \n",
       "2                                Nomad House              Puducherry   \n",
       "3                       Pranaav Beach Resort              Puducherry   \n",
       "4  Villa Shanti - Heritage Hotel for Foodies  White Town, Puducherry   \n",
       "\n",
       "                                            features ratings      reviews  \\\n",
       "0  Budget Double Room1 double bedBreakfast includ...     7.5  165 reviews   \n",
       "1  Standard Double Room2 beds (1 double, 1 futon)...     6.7   54 reviews   \n",
       "2  4-Bed Mixed Dormitory RoomShared dormitory roo...     8.1   68 reviews   \n",
       "3  Double Room with Balcony1 large double bedBrea...     9.5   73 reviews   \n",
       "4  Executive SuitePrivate suite1 double bedBreakf...     8.4  294 reviews   \n",
       "\n",
       "    review_title                  room_style     price         tax_charges  \n",
       "0          Good           Budget Double Room  ₹ 36,224  3 nights, 2 adults  \n",
       "1  Review score         Standard Double Room  ₹ 13,997  3 nights, 2 adults  \n",
       "2     Very good   4-Bed Mixed Dormitory Room  ₹ 18,000  3 nights, 2 adults  \n",
       "3   Exceptional     Double Room with Balcony  ₹ 25,700  3 nights, 2 adults  \n",
       "4     Very good              Executive Suite  ₹ 55,500  3 nights, 2 adults  "
      ]
     },
     "execution_count": 230,
     "metadata": {},
     "output_type": "execute_result"
    }
   ],
   "source": [
    "df.head()"
   ]
  },
  {
   "cell_type": "code",
   "execution_count": 231,
   "id": "5077d160",
   "metadata": {},
   "outputs": [
    {
     "data": {
      "text/plain": [
       "(163, 9)"
      ]
     },
     "execution_count": 231,
     "metadata": {},
     "output_type": "execute_result"
    }
   ],
   "source": [
    "df.shape"
   ]
  },
  {
   "cell_type": "code",
   "execution_count": 232,
   "id": "7b2e0517",
   "metadata": {},
   "outputs": [],
   "source": [
    "df.to_csv(\"Downloads/Pondicherry.csv\",index = False)"
   ]
  },
  {
   "cell_type": "markdown",
   "id": "a783b5ce",
   "metadata": {},
   "source": [
    "### Stacking the dataframes"
   ]
  },
  {
   "cell_type": "code",
   "execution_count": 246,
   "id": "54ce3d06",
   "metadata": {},
   "outputs": [],
   "source": [
    "df1 = pd.read_csv(\"OneDrive/Desktop/web scrapping project/goa.csv\") "
   ]
  },
  {
   "cell_type": "code",
   "execution_count": 247,
   "id": "7de0c131",
   "metadata": {},
   "outputs": [],
   "source": [
    "df2 = pd.read_csv(\"OneDrive/Desktop/web scrapping project/kolkata.csv\")"
   ]
  },
  {
   "cell_type": "code",
   "execution_count": 248,
   "id": "78e36d1d",
   "metadata": {},
   "outputs": [],
   "source": [
    "df3 = pd.read_csv(\"OneDrive/Desktop/web scrapping project/manali1.csv\")"
   ]
  },
  {
   "cell_type": "code",
   "execution_count": 249,
   "id": "989c7a15",
   "metadata": {},
   "outputs": [],
   "source": [
    "df4 = pd.read_csv(\"OneDrive/Desktop/web scrapping project/mumbai.csv\")"
   ]
  },
  {
   "cell_type": "code",
   "execution_count": 250,
   "id": "ead98a4a",
   "metadata": {},
   "outputs": [],
   "source": [
    "df5 = pd.read_csv(\"OneDrive/Desktop/web scrapping project/pondicherry.csv\")"
   ]
  },
  {
   "cell_type": "code",
   "execution_count": 251,
   "id": "ec96070a",
   "metadata": {},
   "outputs": [],
   "source": [
    "df = pd.concat([df1, df2, df3, df4, df5], axis=0)"
   ]
  },
  {
   "cell_type": "code",
   "execution_count": null,
   "id": "9b421136",
   "metadata": {},
   "outputs": [],
   "source": [
    "df.to_csv()"
   ]
  },
  {
   "cell_type": "code",
   "execution_count": 252,
   "id": "b4a353f9",
   "metadata": {},
   "outputs": [
    {
     "data": {
      "text/html": [
       "<div>\n",
       "<style scoped>\n",
       "    .dataframe tbody tr th:only-of-type {\n",
       "        vertical-align: middle;\n",
       "    }\n",
       "\n",
       "    .dataframe tbody tr th {\n",
       "        vertical-align: top;\n",
       "    }\n",
       "\n",
       "    .dataframe thead th {\n",
       "        text-align: right;\n",
       "    }\n",
       "</style>\n",
       "<table border=\"1\" class=\"dataframe\">\n",
       "  <thead>\n",
       "    <tr style=\"text-align: right;\">\n",
       "      <th></th>\n",
       "      <th>hotel_name</th>\n",
       "      <th>location</th>\n",
       "      <th>features</th>\n",
       "      <th>ratings</th>\n",
       "      <th>reviews</th>\n",
       "      <th>review_title</th>\n",
       "      <th>room_style</th>\n",
       "      <th>price</th>\n",
       "      <th>tax_charges</th>\n",
       "      <th>city</th>\n",
       "    </tr>\n",
       "  </thead>\n",
       "  <tbody>\n",
       "    <tr>\n",
       "      <th>0</th>\n",
       "      <td>Candolim Serenity Resort - Top Rated &amp; Most Aw...</td>\n",
       "      <td>Old Goa</td>\n",
       "      <td>Double Room1 double bedFree cancellationNo pre...</td>\n",
       "      <td>7.4</td>\n",
       "      <td>12 reviews</td>\n",
       "      <td>Good</td>\n",
       "      <td>Double Room</td>\n",
       "      <td>₹ 39,060</td>\n",
       "      <td>3 nights, 2 adults</td>\n",
       "      <td>Goa</td>\n",
       "    </tr>\n",
       "    <tr>\n",
       "      <th>1</th>\n",
       "      <td>Hotel Golden Rice Sarenity With Swimming Pool,...</td>\n",
       "      <td>Aguada</td>\n",
       "      <td>Deluxe Room1 double bedFree cancellation</td>\n",
       "      <td>6.7</td>\n",
       "      <td>55 reviews</td>\n",
       "      <td>Review score</td>\n",
       "      <td>Deluxe Room</td>\n",
       "      <td>₹ 47,811</td>\n",
       "      <td>3 nights, 2 adults</td>\n",
       "      <td>Goa</td>\n",
       "    </tr>\n",
       "    <tr>\n",
       "      <th>2</th>\n",
       "      <td>Ronnie's Studio Apartment</td>\n",
       "      <td>Saligao</td>\n",
       "      <td>Apartment with BalconyEntire apartment • 1 bed...</td>\n",
       "      <td>7.9</td>\n",
       "      <td>123 reviews</td>\n",
       "      <td>Good</td>\n",
       "      <td>Apartment with Balcony</td>\n",
       "      <td>₹ 34,097</td>\n",
       "      <td>3 nights, 2 adults</td>\n",
       "      <td>Goa</td>\n",
       "    </tr>\n",
       "    <tr>\n",
       "      <th>3</th>\n",
       "      <td>La Vera Boutique Hotel</td>\n",
       "      <td>Mandrem</td>\n",
       "      <td>Standard King Room1 extra-large double bedFree...</td>\n",
       "      <td>8.0</td>\n",
       "      <td>218 reviews</td>\n",
       "      <td>Very good</td>\n",
       "      <td>Standard King Room</td>\n",
       "      <td>₹ 37,725</td>\n",
       "      <td>3 nights, 2 adults</td>\n",
       "      <td>Goa</td>\n",
       "    </tr>\n",
       "    <tr>\n",
       "      <th>4</th>\n",
       "      <td>The Golden Wings Resort, Goa - Property of the...</td>\n",
       "      <td>Aguada</td>\n",
       "      <td>Deluxe Room1 double bedFree cancellationOnly 3...</td>\n",
       "      <td>6.1</td>\n",
       "      <td>7 reviews</td>\n",
       "      <td>Review score</td>\n",
       "      <td>Deluxe Room</td>\n",
       "      <td>₹ 40,497</td>\n",
       "      <td>3 nights, 2 adults</td>\n",
       "      <td>Goa</td>\n",
       "    </tr>\n",
       "  </tbody>\n",
       "</table>\n",
       "</div>"
      ],
      "text/plain": [
       "                                          hotel_name location  \\\n",
       "0  Candolim Serenity Resort - Top Rated & Most Aw...  Old Goa   \n",
       "1  Hotel Golden Rice Sarenity With Swimming Pool,...   Aguada   \n",
       "2                          Ronnie's Studio Apartment  Saligao   \n",
       "3                             La Vera Boutique Hotel  Mandrem   \n",
       "4  The Golden Wings Resort, Goa - Property of the...   Aguada   \n",
       "\n",
       "                                            features  ratings      reviews  \\\n",
       "0  Double Room1 double bedFree cancellationNo pre...      7.4   12 reviews   \n",
       "1           Deluxe Room1 double bedFree cancellation      6.7   55 reviews   \n",
       "2  Apartment with BalconyEntire apartment • 1 bed...      7.9  123 reviews   \n",
       "3  Standard King Room1 extra-large double bedFree...      8.0  218 reviews   \n",
       "4  Deluxe Room1 double bedFree cancellationOnly 3...      6.1    7 reviews   \n",
       "\n",
       "    review_title              room_style     price         tax_charges city  \n",
       "0          Good              Double Room  ₹ 39,060  3 nights, 2 adults  Goa  \n",
       "1  Review score              Deluxe Room  ₹ 47,811  3 nights, 2 adults  Goa  \n",
       "2          Good   Apartment with Balcony  ₹ 34,097  3 nights, 2 adults  Goa  \n",
       "3     Very good       Standard King Room  ₹ 37,725  3 nights, 2 adults  Goa  \n",
       "4  Review score              Deluxe Room  ₹ 40,497  3 nights, 2 adults  Goa  "
      ]
     },
     "execution_count": 252,
     "metadata": {},
     "output_type": "execute_result"
    }
   ],
   "source": [
    "df.head()"
   ]
  },
  {
   "cell_type": "code",
   "execution_count": 254,
   "id": "5d4e860d",
   "metadata": {},
   "outputs": [
    {
     "data": {
      "text/plain": [
       "(3047, 10)"
      ]
     },
     "execution_count": 254,
     "metadata": {},
     "output_type": "execute_result"
    }
   ],
   "source": [
    "df.shape"
   ]
  },
  {
   "cell_type": "code",
   "execution_count": 255,
   "id": "c8572840",
   "metadata": {},
   "outputs": [
    {
     "name": "stdout",
     "output_type": "stream",
     "text": [
      "<class 'pandas.core.frame.DataFrame'>\n",
      "Int64Index: 3047 entries, 0 to 162\n",
      "Data columns (total 10 columns):\n",
      " #   Column        Non-Null Count  Dtype  \n",
      "---  ------        --------------  -----  \n",
      " 0   hotel_name    3047 non-null   object \n",
      " 1   location      3047 non-null   object \n",
      " 2   features      3047 non-null   object \n",
      " 3   ratings       2406 non-null   float64\n",
      " 4   reviews       2485 non-null   object \n",
      " 5   review_title  2485 non-null   object \n",
      " 6   room_style    3047 non-null   object \n",
      " 7   price         3047 non-null   object \n",
      " 8   tax_charges   3047 non-null   object \n",
      " 9   city          3047 non-null   object \n",
      "dtypes: float64(1), object(9)\n",
      "memory usage: 261.9+ KB\n"
     ]
    }
   ],
   "source": [
    "df.info()"
   ]
  },
  {
   "cell_type": "markdown",
   "id": "eff56885",
   "metadata": {},
   "source": [
    "### Cleaning the data"
   ]
  },
  {
   "cell_type": "code",
   "execution_count": 264,
   "id": "c4a94dff",
   "metadata": {},
   "outputs": [],
   "source": [
    "df['reviews']=df['reviews'].str.replace('reviews','').str.replace('review','')"
   ]
  },
  {
   "cell_type": "code",
   "execution_count": 265,
   "id": "678f125a",
   "metadata": {},
   "outputs": [
    {
     "data": {
      "text/html": [
       "<div>\n",
       "<style scoped>\n",
       "    .dataframe tbody tr th:only-of-type {\n",
       "        vertical-align: middle;\n",
       "    }\n",
       "\n",
       "    .dataframe tbody tr th {\n",
       "        vertical-align: top;\n",
       "    }\n",
       "\n",
       "    .dataframe thead th {\n",
       "        text-align: right;\n",
       "    }\n",
       "</style>\n",
       "<table border=\"1\" class=\"dataframe\">\n",
       "  <thead>\n",
       "    <tr style=\"text-align: right;\">\n",
       "      <th></th>\n",
       "      <th>hotel_name</th>\n",
       "      <th>location</th>\n",
       "      <th>features</th>\n",
       "      <th>ratings</th>\n",
       "      <th>reviews</th>\n",
       "      <th>review_title</th>\n",
       "      <th>room_style</th>\n",
       "      <th>price</th>\n",
       "      <th>tax_charges</th>\n",
       "      <th>city</th>\n",
       "    </tr>\n",
       "  </thead>\n",
       "  <tbody>\n",
       "    <tr>\n",
       "      <th>0</th>\n",
       "      <td>Candolim Serenity Resort - Top Rated &amp; Most Aw...</td>\n",
       "      <td>Old Goa</td>\n",
       "      <td>Double Room1 double bedFree cancellationNo pre...</td>\n",
       "      <td>7.4</td>\n",
       "      <td>12</td>\n",
       "      <td>Good</td>\n",
       "      <td>Double Room</td>\n",
       "      <td>₹ 39,060</td>\n",
       "      <td>3 nights, 2 adults</td>\n",
       "      <td>Goa</td>\n",
       "    </tr>\n",
       "    <tr>\n",
       "      <th>1</th>\n",
       "      <td>Hotel Golden Rice Sarenity With Swimming Pool,...</td>\n",
       "      <td>Aguada</td>\n",
       "      <td>Deluxe Room1 double bedFree cancellation</td>\n",
       "      <td>6.7</td>\n",
       "      <td>55</td>\n",
       "      <td>Review score</td>\n",
       "      <td>Deluxe Room</td>\n",
       "      <td>₹ 47,811</td>\n",
       "      <td>3 nights, 2 adults</td>\n",
       "      <td>Goa</td>\n",
       "    </tr>\n",
       "    <tr>\n",
       "      <th>2</th>\n",
       "      <td>Ronnie's Studio Apartment</td>\n",
       "      <td>Saligao</td>\n",
       "      <td>Apartment with BalconyEntire apartment • 1 bed...</td>\n",
       "      <td>7.9</td>\n",
       "      <td>123</td>\n",
       "      <td>Good</td>\n",
       "      <td>Apartment with Balcony</td>\n",
       "      <td>₹ 34,097</td>\n",
       "      <td>3 nights, 2 adults</td>\n",
       "      <td>Goa</td>\n",
       "    </tr>\n",
       "    <tr>\n",
       "      <th>3</th>\n",
       "      <td>La Vera Boutique Hotel</td>\n",
       "      <td>Mandrem</td>\n",
       "      <td>Standard King Room1 extra-large double bedFree...</td>\n",
       "      <td>8.0</td>\n",
       "      <td>218</td>\n",
       "      <td>Very good</td>\n",
       "      <td>Standard King Room</td>\n",
       "      <td>₹ 37,725</td>\n",
       "      <td>3 nights, 2 adults</td>\n",
       "      <td>Goa</td>\n",
       "    </tr>\n",
       "    <tr>\n",
       "      <th>4</th>\n",
       "      <td>The Golden Wings Resort, Goa - Property of the...</td>\n",
       "      <td>Aguada</td>\n",
       "      <td>Deluxe Room1 double bedFree cancellationOnly 3...</td>\n",
       "      <td>6.1</td>\n",
       "      <td>7</td>\n",
       "      <td>Review score</td>\n",
       "      <td>Deluxe Room</td>\n",
       "      <td>₹ 40,497</td>\n",
       "      <td>3 nights, 2 adults</td>\n",
       "      <td>Goa</td>\n",
       "    </tr>\n",
       "    <tr>\n",
       "      <th>...</th>\n",
       "      <td>...</td>\n",
       "      <td>...</td>\n",
       "      <td>...</td>\n",
       "      <td>...</td>\n",
       "      <td>...</td>\n",
       "      <td>...</td>\n",
       "      <td>...</td>\n",
       "      <td>...</td>\n",
       "      <td>...</td>\n",
       "      <td>...</td>\n",
       "    </tr>\n",
       "    <tr>\n",
       "      <th>158</th>\n",
       "      <td>Villa Versailles</td>\n",
       "      <td>Pondicherry</td>\n",
       "      <td>Single Room with Private Bathroom2 single beds...</td>\n",
       "      <td>NaN</td>\n",
       "      <td>NaN</td>\n",
       "      <td>NaN</td>\n",
       "      <td>Single Room with Private Bathroom</td>\n",
       "      <td>₹ 15,000</td>\n",
       "      <td>3 nights, 2 adults</td>\n",
       "      <td>Pondicherry</td>\n",
       "    </tr>\n",
       "    <tr>\n",
       "      <th>159</th>\n",
       "      <td>GARRISSON GUEST HOUSE &amp; RESTO BAR</td>\n",
       "      <td>Pondicherry</td>\n",
       "      <td>Double Room with Private Bathroom2 single beds...</td>\n",
       "      <td>NaN</td>\n",
       "      <td>NaN</td>\n",
       "      <td>NaN</td>\n",
       "      <td>Double Room with Private Bathroom</td>\n",
       "      <td>₹ 13,200</td>\n",
       "      <td>3 nights, 2 adults</td>\n",
       "      <td>Pondicherry</td>\n",
       "    </tr>\n",
       "    <tr>\n",
       "      <th>160</th>\n",
       "      <td>HOSTEL 111 by Gurukulam.</td>\n",
       "      <td>Pondicherry</td>\n",
       "      <td>Bed in 4-Bed Mixed Dormitory Room2 beds in dor...</td>\n",
       "      <td>8.4</td>\n",
       "      <td>9</td>\n",
       "      <td>Very good</td>\n",
       "      <td>Bed in 4-Bed Mixed Dormitory Room</td>\n",
       "      <td>₹ 9,720</td>\n",
       "      <td>3 nights, 2 adults</td>\n",
       "      <td>Pondicherry</td>\n",
       "    </tr>\n",
       "    <tr>\n",
       "      <th>161</th>\n",
       "      <td>Siddharth illam</td>\n",
       "      <td>Pondicherry Beach, Pondicherry</td>\n",
       "      <td>Double Room with Private Bathroom2 single beds...</td>\n",
       "      <td>NaN</td>\n",
       "      <td>NaN</td>\n",
       "      <td>NaN</td>\n",
       "      <td>Double Room with Private Bathroom</td>\n",
       "      <td>₹ 15,000</td>\n",
       "      <td>3 nights, 2 adults</td>\n",
       "      <td>Pondicherry</td>\n",
       "    </tr>\n",
       "    <tr>\n",
       "      <th>162</th>\n",
       "      <td>sri perumal inn</td>\n",
       "      <td>Pondicherry</td>\n",
       "      <td>Suite2 private suites2 single bedsFree cancell...</td>\n",
       "      <td>2.0</td>\n",
       "      <td>1</td>\n",
       "      <td>Review score</td>\n",
       "      <td>Suite</td>\n",
       "      <td>₹ 30,000</td>\n",
       "      <td>3 nights, 2 adults</td>\n",
       "      <td>Pondicherry</td>\n",
       "    </tr>\n",
       "  </tbody>\n",
       "</table>\n",
       "<p>3047 rows × 10 columns</p>\n",
       "</div>"
      ],
      "text/plain": [
       "                                            hotel_name  \\\n",
       "0    Candolim Serenity Resort - Top Rated & Most Aw...   \n",
       "1    Hotel Golden Rice Sarenity With Swimming Pool,...   \n",
       "2                            Ronnie's Studio Apartment   \n",
       "3                               La Vera Boutique Hotel   \n",
       "4    The Golden Wings Resort, Goa - Property of the...   \n",
       "..                                                 ...   \n",
       "158                                   Villa Versailles   \n",
       "159                  GARRISSON GUEST HOUSE & RESTO BAR   \n",
       "160                           HOSTEL 111 by Gurukulam.   \n",
       "161                                    Siddharth illam   \n",
       "162                                    sri perumal inn   \n",
       "\n",
       "                           location  \\\n",
       "0                           Old Goa   \n",
       "1                            Aguada   \n",
       "2                           Saligao   \n",
       "3                           Mandrem   \n",
       "4                            Aguada   \n",
       "..                              ...   \n",
       "158                     Pondicherry   \n",
       "159                     Pondicherry   \n",
       "160                     Pondicherry   \n",
       "161  Pondicherry Beach, Pondicherry   \n",
       "162                     Pondicherry   \n",
       "\n",
       "                                              features  ratings reviews  \\\n",
       "0    Double Room1 double bedFree cancellationNo pre...      7.4     12    \n",
       "1             Deluxe Room1 double bedFree cancellation      6.7     55    \n",
       "2    Apartment with BalconyEntire apartment • 1 bed...      7.9    123    \n",
       "3    Standard King Room1 extra-large double bedFree...      8.0    218    \n",
       "4    Deluxe Room1 double bedFree cancellationOnly 3...      6.1      7    \n",
       "..                                                 ...      ...     ...   \n",
       "158  Single Room with Private Bathroom2 single beds...      NaN     NaN   \n",
       "159  Double Room with Private Bathroom2 single beds...      NaN     NaN   \n",
       "160  Bed in 4-Bed Mixed Dormitory Room2 beds in dor...      8.4      9    \n",
       "161  Double Room with Private Bathroom2 single beds...      NaN     NaN   \n",
       "162  Suite2 private suites2 single bedsFree cancell...      2.0      1    \n",
       "\n",
       "      review_title                         room_style     price  \\\n",
       "0            Good                         Double Room  ₹ 39,060   \n",
       "1    Review score                         Deluxe Room  ₹ 47,811   \n",
       "2            Good              Apartment with Balcony  ₹ 34,097   \n",
       "3       Very good                  Standard King Room  ₹ 37,725   \n",
       "4    Review score                         Deluxe Room  ₹ 40,497   \n",
       "..             ...                                ...       ...   \n",
       "158            NaN  Single Room with Private Bathroom  ₹ 15,000   \n",
       "159            NaN  Double Room with Private Bathroom  ₹ 13,200   \n",
       "160     Very good   Bed in 4-Bed Mixed Dormitory Room   ₹ 9,720   \n",
       "161            NaN  Double Room with Private Bathroom  ₹ 15,000   \n",
       "162  Review score                               Suite  ₹ 30,000   \n",
       "\n",
       "            tax_charges         city  \n",
       "0    3 nights, 2 adults          Goa  \n",
       "1    3 nights, 2 adults          Goa  \n",
       "2    3 nights, 2 adults          Goa  \n",
       "3    3 nights, 2 adults          Goa  \n",
       "4    3 nights, 2 adults          Goa  \n",
       "..                  ...          ...  \n",
       "158  3 nights, 2 adults  Pondicherry  \n",
       "159  3 nights, 2 adults  Pondicherry  \n",
       "160  3 nights, 2 adults  Pondicherry  \n",
       "161  3 nights, 2 adults  Pondicherry  \n",
       "162  3 nights, 2 adults  Pondicherry  \n",
       "\n",
       "[3047 rows x 10 columns]"
      ]
     },
     "execution_count": 265,
     "metadata": {},
     "output_type": "execute_result"
    }
   ],
   "source": [
    "df"
   ]
  },
  {
   "cell_type": "code",
   "execution_count": 266,
   "id": "8b5ca512",
   "metadata": {},
   "outputs": [],
   "source": [
    "df.to_csv(\"OneDrive/Desktop/web scrapping project/hotels_raw.csv\")"
   ]
  },
  {
   "cell_type": "code",
   "execution_count": 268,
   "id": "b8066599",
   "metadata": {
    "scrolled": true
   },
   "outputs": [
    {
     "data": {
      "text/plain": [
       "778"
      ]
     },
     "execution_count": 268,
     "metadata": {},
     "output_type": "execute_result"
    }
   ],
   "source": [
    "df.duplicated().sum()"
   ]
  },
  {
   "cell_type": "code",
   "execution_count": null,
   "id": "a4f46f91",
   "metadata": {},
   "outputs": [],
   "source": []
  }
 ],
 "metadata": {
  "kernelspec": {
   "display_name": "Python 3 (ipykernel)",
   "language": "python",
   "name": "python3"
  },
  "language_info": {
   "codemirror_mode": {
    "name": "ipython",
    "version": 3
   },
   "file_extension": ".py",
   "mimetype": "text/x-python",
   "name": "python",
   "nbconvert_exporter": "python",
   "pygments_lexer": "ipython3",
   "version": "3.10.9"
  }
 },
 "nbformat": 4,
 "nbformat_minor": 5
}
